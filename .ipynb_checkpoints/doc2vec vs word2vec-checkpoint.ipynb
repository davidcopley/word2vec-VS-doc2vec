{
 "cells": [
  {
   "cell_type": "markdown",
   "metadata": {},
   "source": [
    "# Null hypothesis: There is no difference in similarities of documents analyzed through by Doc2Vec and Word2Vec\n",
    "\n",
    "# Alternate hypothesis: There are differences in similarities of documents  analyzed through Doc2Vec and Word2Vec"
   ]
  },
  {
   "cell_type": "code",
   "execution_count": 129,
   "metadata": {},
   "outputs": [],
   "source": [
    "import pandas as pd"
   ]
  },
  {
   "cell_type": "code",
   "execution_count": 130,
   "metadata": {},
   "outputs": [],
   "source": [
    "from gensim.models import doc2vec\n",
    "from gensim.models import word2vec"
   ]
  },
  {
   "cell_type": "code",
   "execution_count": 131,
   "metadata": {},
   "outputs": [],
   "source": [
    "def label_sentence(sentence, label):\n",
    "    return doc2vec.LabeledSentence(words=sentence, tags=[label])"
   ]
  },
  {
   "cell_type": "code",
   "execution_count": 132,
   "metadata": {},
   "outputs": [],
   "source": [
    "df = pd.read_csv(\"./billboard.csv\",encoding=\"latin\")"
   ]
  },
  {
   "cell_type": "code",
   "execution_count": 133,
   "metadata": {},
   "outputs": [],
   "source": [
    "df = df.dropna()\n",
    "df = df[df['Lyrics']!=\"instrumental\"]"
   ]
  },
  {
   "cell_type": "code",
   "execution_count": 134,
   "metadata": {},
   "outputs": [],
   "source": [
    "df.drop('Rank',axis=1)\n",
    "df = df.reset_index(drop=True)"
   ]
  },
  {
   "cell_type": "code",
   "execution_count": 135,
   "metadata": {},
   "outputs": [
    {
     "name": "stdout",
     "output_type": "stream",
     "text": [
      "i will survive - gloria gaynor\n"
     ]
    }
   ],
   "source": [
    "song_id=1313\n",
    "song_name = df.iloc[song_id]['Song']+\" - \"+df.iloc[song_id]['Artist']\n",
    "print(song_name)"
   ]
  },
  {
   "cell_type": "markdown",
   "metadata": {},
   "source": [
    "# Preparing Labelled Sentences for training Doc2Vec"
   ]
  },
  {
   "cell_type": "code",
   "execution_count": 136,
   "metadata": {},
   "outputs": [
    {
     "name": "stderr",
     "output_type": "stream",
     "text": [
      "/anaconda3/lib/python3.6/site-packages/ipykernel_launcher.py:2: DeprecationWarning: Call to deprecated `LabeledSentence` (Class will be removed in 4.0.0, use TaggedDocument instead).\n",
      "  \n"
     ]
    }
   ],
   "source": [
    "docs = []\n",
    "for i in range(len(df)):\n",
    "    row = df.iloc[i]\n",
    "    lyrics = row['Lyrics']\n",
    "    if(lyrics != \"instrumental\"):\n",
    "        docs.append(label_sentence(lyrics,str(i)))"
   ]
  },
  {
   "cell_type": "markdown",
   "metadata": {},
   "source": [
    "# Training Doc2Vec and Word2Vec on same set of Lyrics (Billboard songs 1965 - 2015)"
   ]
  },
  {
   "cell_type": "code",
   "execution_count": 137,
   "metadata": {},
   "outputs": [
    {
     "name": "stderr",
     "output_type": "stream",
     "text": [
      "/anaconda3/lib/python3.6/site-packages/gensim/models/doc2vec.py:366: UserWarning: The parameter `size` is deprecated, will be removed in 4.0.0, use `vector_size` instead.\n",
      "  warnings.warn(\"The parameter `size` is deprecated, will be removed in 4.0.0, use `vector_size` instead.\")\n"
     ]
    }
   ],
   "source": [
    "d2v = doc2vec.Doc2Vec(docs, size=300, window=8, min_count=5, workers=4)\n",
    "w2v = word2vec.Word2Vec(df['Lyrics'].apply(lambda x:x.split(\" \")), size=300, window= 8, min_count=5,workers=4)"
   ]
  },
  {
   "cell_type": "code",
   "execution_count": 138,
   "metadata": {},
   "outputs": [],
   "source": [
    "d2v_sim = [None]*len(df)\n",
    "for i,d in d2v.docvecs.most_similar(str(song_id),topn=len(df)):\n",
    "    d2v_sim[int(i)] = d"
   ]
  },
  {
   "cell_type": "markdown",
   "metadata": {},
   "source": [
    "# Adding Doc2Vec similarity of {{song_name}} lyrics to lyrics of all other songs to data frame column "
   ]
  },
  {
   "cell_type": "code",
   "execution_count": 139,
   "metadata": {},
   "outputs": [],
   "source": [
    "df['d2v_similarity']=d2v_sim"
   ]
  },
  {
   "cell_type": "code",
   "execution_count": 140,
   "metadata": {},
   "outputs": [],
   "source": [
    "import numpy as np\n",
    "\n",
    "def normalize(word_vec):\n",
    "    norm=np.linalg.norm(word_vec)\n",
    "    if norm == 0: \n",
    "       return word_vec\n",
    "    return word_vec/norm\n",
    "def getWord2VecSentenceVector(sentence):\n",
    "    sentence = sentence.split(\" \")\n",
    "    vector = None\n",
    "    i = 0\n",
    "    for word in sentence:\n",
    "        try:\n",
    "            v = w2v[word]\n",
    "            if(vector is None):\n",
    "                vector = v\n",
    "                i+=1\n",
    "            else:\n",
    "                vector =vector+v\n",
    "        except:\n",
    "            continue\n",
    "    vector /= i\n",
    "    return normalize(vector)"
   ]
  },
  {
   "cell_type": "markdown",
   "metadata": {},
   "source": [
    "# Adding Word2Vec similarity of {{song_name}} lyrics to lyrics of all other songs to data frame column "
   ]
  },
  {
   "cell_type": "code",
   "execution_count": 141,
   "metadata": {},
   "outputs": [
    {
     "name": "stderr",
     "output_type": "stream",
     "text": [
      "/anaconda3/lib/python3.6/site-packages/ipykernel_launcher.py:14: DeprecationWarning: Call to deprecated `__getitem__` (Method will be removed in 4.0.0, use self.wv.__getitem__() instead).\n",
      "  \n"
     ]
    }
   ],
   "source": [
    "df['w2v_vector'] = df['Lyrics'].apply(getWord2VecSentenceVector)"
   ]
  },
  {
   "cell_type": "code",
   "execution_count": 142,
   "metadata": {},
   "outputs": [
    {
     "name": "stderr",
     "output_type": "stream",
     "text": [
      "/anaconda3/lib/python3.6/site-packages/ipykernel_launcher.py:14: DeprecationWarning: Call to deprecated `__getitem__` (Method will be removed in 4.0.0, use self.wv.__getitem__() instead).\n",
      "  \n"
     ]
    }
   ],
   "source": [
    "from scipy.spatial.distance import cosine\n",
    "rick_roll = getWord2VecSentenceVector(df.iloc[song_id]['Lyrics'])\n",
    "df['w2v_similarity'] = df['w2v_vector'].apply(lambda x:cosine(x,rick_roll))"
   ]
  },
  {
   "cell_type": "code",
   "execution_count": 143,
   "metadata": {},
   "outputs": [],
   "source": [
    "import matplotlib.pyplot as plt"
   ]
  },
  {
   "cell_type": "code",
   "execution_count": 144,
   "metadata": {
    "scrolled": false
   },
   "outputs": [
    {
     "data": {
      "text/plain": [
       "Text(0.5,1,'Year vs Difference in Similarity between W2V and D2V')"
      ]
     },
     "execution_count": 144,
     "metadata": {},
     "output_type": "execute_result"
    },
    {
     "data": {
      "image/png": "[encoded data removed]",
      "text/plain": [
       "<matplotlib.figure.Figure at 0x111529278>"
      ]
     },
     "metadata": {},
     "output_type": "display_data"
    }
   ],
   "source": [
    "plt.figure(figsize=(15,5))\n",
    "plt.plot(df.groupby(\"Year\").mean().index,df.groupby(\"Year\").mean()['w2v_similarity']-df.groupby(\"Year\").mean()['d2v_similarity'])\n",
    "plt.title(\"Year vs Difference in Similarity between W2V and D2V\")"
   ]
  },
  {
   "cell_type": "code",
   "execution_count": 213,
   "metadata": {},
   "outputs": [
    {
     "data": {
      "text/plain": [
       "Text(0.5,0,'Year')"
      ]
     },
     "execution_count": 213,
     "metadata": {},
     "output_type": "execute_result"
    },
    {
     "data": {
      "image/png": "[encoded data removed]",
      "text/plain": [
       "<matplotlib.figure.Figure at 0x10e2589e8>"
      ]
     },
     "metadata": {},
     "output_type": "display_data"
    }
   ],
   "source": [
    "plt.figure(figsize=(15,5))\n",
    "plt.plot(df.groupby(\"Year\").mean()['w2v_similarity'])\n",
    "plt.title(\"W2V Similarity with Rickroll vs Years\")\n",
    "plt.ylabel(\"Similarity\")\n",
    "plt.xlabel(\"Year\")"
   ]
  },
  {
   "cell_type": "code",
   "execution_count": 146,
   "metadata": {
    "scrolled": true
   },
   "outputs": [
    {
     "data": {
      "text/plain": [
       "Text(0.5,0,'Year')"
      ]
     },
     "execution_count": 146,
     "metadata": {},
     "output_type": "execute_result"
    },
    {
     "data": {
      "image/png": "[encoded data removed]",
      "text/plain": [
       "<matplotlib.figure.Figure at 0x1125efb38>"
      ]
     },
     "metadata": {},
     "output_type": "display_data"
    }
   ],
   "source": [
    "plt.figure(figsize=(15,5))\n",
    "plt.plot(df.groupby(\"Year\").mean()['d2v_similarity'])\n",
    "plt.title(\"D2V Similarity with Rickroll vs Years\")\n",
    "plt.ylabel(\"Similarity\")\n",
    "plt.xlabel(\"Year\")"
   ]
  },
  {
   "cell_type": "markdown",
   "metadata": {},
   "source": [
    "# Finding number of songs where Doc2Vec and Word2Vec share cosine similarity within 10% range"
   ]
  },
  {
   "cell_type": "code",
   "execution_count": 147,
   "metadata": {},
   "outputs": [],
   "source": [
    "num_similar_songs = len([x for x in (df['d2v_similarity']-df['w2v_similarity']).apply(lambda x:abs(x)) if x <= 0.1])"
   ]
  },
  {
   "cell_type": "code",
   "execution_count": 148,
   "metadata": {},
   "outputs": [],
   "source": [
    "total_num_songs = len(df)"
   ]
  },
  {
   "cell_type": "code",
   "execution_count": 149,
   "metadata": {},
   "outputs": [
    {
     "data": {
      "text/plain": [
       "0.22886892609228257"
      ]
     },
     "execution_count": 149,
     "metadata": {},
     "output_type": "execute_result"
    }
   ],
   "source": [
    "num_similar_songs/total_num_songs"
   ]
  },
  {
   "cell_type": "code",
   "execution_count": 150,
   "metadata": {},
   "outputs": [],
   "source": [
    "from annoy import AnnoyIndex"
   ]
  },
  {
   "cell_type": "code",
   "execution_count": 151,
   "metadata": {},
   "outputs": [],
   "source": [
    "w2v_cluster = AnnoyIndex(300,metric='angular')"
   ]
  },
  {
   "cell_type": "code",
   "execution_count": 152,
   "metadata": {},
   "outputs": [],
   "source": [
    "for i in range(len(df)):\n",
    "    row = df.iloc[i]\n",
    "    vector = row['w2v_vector']\n",
    "    w2v_cluster.add_item(i,vector)"
   ]
  },
  {
   "cell_type": "code",
   "execution_count": 153,
   "metadata": {
    "scrolled": true
   },
   "outputs": [
    {
     "data": {
      "text/plain": [
       "True"
      ]
     },
     "execution_count": 153,
     "metadata": {},
     "output_type": "execute_result"
    }
   ],
   "source": [
    "w2v_cluster.build(100)"
   ]
  },
  {
   "cell_type": "markdown",
   "metadata": {},
   "source": [
    "# showing top 10 most similar songs to {{song_name}} using Word2Vec"
   ]
  },
  {
   "cell_type": "code",
   "execution_count": 154,
   "metadata": {},
   "outputs": [
    {
     "name": "stdout",
     "output_type": "stream",
     "text": [
      "i will survive\n",
      "\n",
      " at first i was afraid i was petrified thinking i couldnt live without you by my side and ive been spending nights thinking how you did me wrong and i grew strong and i learned how to get along and now youre back from outer space and i find you here with that sad look upon your face i should have changed that stupid lock oh made you leave your key if ive known for a second youd be back to bother me go on now go walk out the door turn around now youre not welcome anymore youre the one who tried to hurt me with goodbye do you think id crumble did you think id lay down and dieno not i i will survive long as i know how to love i know ill stay alive ive got all my life to live and all my love to give and ill survive i i i will surviveit took all my strength not to fall apart trying without my mind to mend my broken heart i spent so many nights feeling sorry for myself how i cried but now i hold my head up high and you see me somebody new im not that lonely little person whos still in love with you now you come dropping in expecting me to be free now im saving all my lovin for someone whos loving me go on now walk out the door turn around now youre not welcome anymore youre the one who tried to hurt me with goodbye think id might crumble did you think id lay down and dieno not i i will survive long as i know how to love i know ill stay alive ive got my life to live and all my love to give and ill survive i i i will survivego and go walk out the door turn around now youre not welcome anymore youre the one who tried to hurt me with goodbye do you think id crumble did you think id lay down and dieno not i i will survive long as i know how to love i know ill stay alive ive got all my life to live and all my love to give and ill survive i i i will surviveit took all my strength not to fall apart trying without my mind to mend my broken heart i spent so many nights feeling sorry for myself how i cried now i hold my head up high and you see me somebody new not that lonely little person whos still in love with you now you come dropping in expecting me to be free but im saving all my lovin for someone whos loving mego on and go walk out the door turn around now youre not welcome anymore youre the one who tried to hurt me with goodbye think id might crumble did you think id lay down and dieno not i i will survive long as i know how to love i know ill stay alive ive got my life to live and all my love to give and ill survive i i i will survivego on and go walk out the door turn around now youre not welcome anymore youre the one who tried to hurt me with goodbye \n",
      "\n",
      "dont wanna lose you\n",
      "\n",
      " sometimes its hard to make things clear i know when to face the truth and i know when the moment is here ill open my heart and show you inside my love has no pride i feel with you ive got nothing to hide so open your eyes and see who i am and not who you want for me to be i am only myself myselfi dont wanna lose you now were gonna get through somehow i dont wanna lose you now forever baby i finally found the courage to stand my ground but if you want me ill be around foreverwe all make mistakes we all lose our way but we stood the test of time and i hope thats the way it will stay its all up to you to tell me to go cause it wont be me to walk away when youre all that i know and i know thati dont wanna lose you now were gonna get through somehow i dont wanna lose you now forever never baby i finally found the courage to stand my ground but if you want me ill be around forever forever yea yea \n",
      "\n",
      "if you asked me to\n",
      "\n",
      " used to be that i believed in something used to be that i believed in love its been a long time since ive had that feeling i could love someone i could trust someone i said id never let nobody near my heart again darlin i said id never let nobody inbut if you asked me to i just might change my mind and let you in my life forever if you asked me to i just might give my heart and stay here in your arms forever if you asked me to if you asked me tosomehow ever since ive been around you cant go back to being on my own cant help feeling darling since ive found you that ive found my home that im finally home i said id never let nobody get too close to me darling i said i needed needed to be freebut if you asked me to i just might change my mind and let you in my life forever if you asked me to i just might give my heart and stay here in your arms forever if you asked me to if you asked me toasked me to i will give my world to you baby i need you now ask me to and ill do anything for you baby for you babyif you asked me to id let you in my life forever if you asked me to \n",
      "\n",
      "gone\n",
      "\n",
      "n sync celebrity gone theres a thousand words that i could say to make you come home oh seems so long ago you walked away left me alone i remember what you said to me you were acting so strange and maybe i was too blind to see that you needed a change was it something i said to make you turn away to make you walk out and leave me cold if i could just find a way to make it so that you were right here but right now ive been sitting here cant get you off my mind ive tried my best to be a man and be strong ive drove myself insane wishing i could touch your face but the truth remains youre gone youre gone baby youre gone girl youre gone baby girl youre gone youre gone youre i dont wanna make excuses baby wont change the fact that youre gone but if theres something that i could do wont you please let me know time is passing so slowly now guess thats my life without you and maybe i could change my every day  but baby i dont want to  so ill just hang around and find some things to do to take my mind off missing you and i know in my heart you cant say that you dont love me too please say you do yeeaah ive been sitting here cant get you off my mind ive tried my best to be a man and be strong i drove myself insane wishing i could touch your face but the truth remains youre gone youre gone youre gone youre goneyoure gone youre gone ohhh oh whatll i do if i cant be with you tell me where will i turn to baby where will i be we are apart am i still in your heart  baby why dont you see that i need you here with me oohhh ive been sitting here cant get you off my mind ive tried my best to be a man and be strong ive drove myself insane wishing i could touch your face but the truth remains been sitting here cant get you off my mind ive tried my best to be a man and be strong i drove myself insane wishing i could touch your face but the truth remains youre gone youre gone youre gone youre gone gone youre gone but the truth remains youre\n",
      "\n",
      "i miss you\n",
      "\n",
      " we used to talk and laugh all night girl what happened to those days did they all just fade away holding you in my arms made me feel so happy then you said you had to go whats wrong baby i need to knowbut now is the day i wish you could come back to make us true but youre long gone away now im missing you im missing you baby i miss you im talking to you baby i miss youi thought youd be with me forever but i guess someone took my place took the place of me loving you making love to you all through the night i wish you were still here so i could see your pretty face again please come back and rescue me from all this pain and miserytheres nothing i wouldnt do to get back next to you im missing you every day im missing you every day i just cant go on this way i just cant go on this way come back to me im begging you please im down on my knees im begging you please i miss you \n",
      "\n",
      "lay me down\n",
      "\n",
      " yes i do i believe that one day i will be where i was right there right next to you and its hard the days just seem so dark the moon and the stars are nothing without you your touch your skin where do i begin no words can explain the way im missing you the night this emptiness this hole that im inside these tears they tell their own storyyou told me not to cry when you were gone but the feelings overwhelming its much too strong can i lay by your side next to you you and make sure youre alright ill take care of you and i dont want to be here if i cant be with you tonightim reaching out to you can you hear my call whos to say you wont hear me this hurt that ive been through im missing you missing you like crazyyou told me not to cry when you were gone but the feelings overwhelming its much too strong can i lay by your side next to you you and make sure youre alright ill take care of you and i dont wanna be here if i cant be with you tonight \n",
      "\n",
      "do for love\n",
      "\n",
      " i shoulda seen you was trouble right from the start taught me so many lessons how not to mess with broken hearts so many questions when this began we was the perfect match perhaps we had some problems but we workin at it and now the arguments are gettin loud i wanna stay but i cant help from walkin out just a little way just take my hand and understand if you could see i never planned to be a man it just wasnt me but now im searchin for commitment in other arms i wanna shelter you from harm dont be alarmed your attitude was the cause you got me stressin soon as i open up the door with your jealous questions like where can i be youre killin me with your jealousy now my ambitions to be free i cant breathe cause soon as i leave its like a trap i hear you callin me to come back im a sucka for lovewhat you wont do do for love you tried everything but you dont give upwhat you wont do do for love you tried everything but you dont give upjust when i thought i broke away and im feelin happy you try to trap me say you pregnant and guess who the daddy dont wanna fall for it but in this case what could i do so now im back to makin promises to you tryin to keep it true what if im wrong a trick to keep me on and on tryin to be strong and in the process keep you goin im bout to lose my composure im gettin close to packin up and leavin notes and gettin ghost tell me who knows a peaceful place where i can go to clear my head im feelin low losin control my heart is sayin leave oh what a tangle web we weave when we conspire to conceive and now you gettin calls at the house guess you cheatin thats all i need to hear cause im leavin im out the do never no more will you see me this is the end cause now i know youve been cheatin im a sucka for lovewhat you wont do do for love you tried everything but you dont give up what you wont do do for love you tried everything but you dont give upnow he left you with scars tears on your pillow and you still stay as you sit and pray hoping the beatingsll go away it wasnt always a hit and run relationship it use to be love happiness and companionship remember when i treated you good i moved you up to hills out the ills of the ghetto hood me and you a happy home when it was on i had a love to call my own i shoulda seen you was trouble but i was lost trapped in your eyes preoccupied with gettin tossed no need to lie you had a man and i knew it you told me dont worry bout it we can do it now im under pressure make a decision cause im waitin when im alone im on the phone havin secret conversations huh i wanna take your misery replace it with happiness but i need your faith in me im a sucka for lovewhat you wont do do for love you tried everything but you dont give up what you wont do do for love you tried everything but you dont give up \n",
      "\n",
      "again\n",
      "\n",
      " i heard from a friend today and she said you were in town suddenly the memories came back to me in my mindhow can i be strong ive asked myself time and time ive said that ill never fall in love with you againa wounded heart you gave my soul you took away good intentions you had many i know you didi come from a place that hurts and god knows how ive cried and i never want to return never fall againmaking love to you felt so good and oh so righthow can i be strong ive asked myself time and time ive said that ill never fall in love with you againso here we are alone again didnt think id come to this and to know it all began with just a little kissive come too close to happiness to have it swept away dont think i can take the pain never fall againkinda late in the game and my heart is in your hands dont you stand there and then tell me you love me then leave again cause im falling in love with you againhold me hold me dont ever let me go say it just one time say you love me god knows i do love you again \n",
      "\n",
      "again\n",
      "\n",
      " i heard from a friend today and she said you were in town suddenly the memories came back to me in my mindhow can i be strong ive asked myself time and time ive said that ill never fall in love with you againa wounded heart you gave my soul you took away good intentions you had many i know you didi come from a place that hurts and god knows how ive cried and i never want to return never fall againmaking love to you felt so good and oh so righthow can i be strong ive asked myself time and time ive said that ill never fall in love with you againso here we are alone again didnt think id come to this and to know it all began with just a little kissive come too close to happiness to have it swept away dont think i can take the pain never fall againkinda late in the game and my heart is in your hands dont you stand there and then tell me you love me then leave again cause im falling in love with you againhold me hold me dont ever let me go say it just one time say you love me god knows i do love you again \n",
      "\n",
      "if you want me to stay\n",
      "\n",
      "if you want me to stay ill be around today to be available for you to see im about to go and then youll know for me to stay here ive got to be me youll never be in doubt thats what its all about you cant take me for granted and smile count the days im gone forget reachin me by phone because i promise ill be gone for a while and when you see me again i hope that you have been the kind of person that you really are now you got to get it straight how could i ever be late when youre my woman takin up my time ohh how could i ever allow i guess i wonder how i could get out a pocket for fun when you know that youre never number two number ones gonna be number one ill be good i wish i could i get this message over to you now when you see me again i hope that you have been the kind of person you really are now ill be so good i wish i could get the message over to you now\n",
      "\n"
     ]
    }
   ],
   "source": [
    "for i in w2v_cluster.get_nns_by_vector(rick_roll,10):\n",
    "    print(df.iloc[i]['Song'])\n",
    "    print()\n",
    "    print(df.iloc[i]['Lyrics'])\n",
    "    print()"
   ]
  },
  {
   "cell_type": "markdown",
   "metadata": {},
   "source": [
    "# showing top 10 most similar songs to {{song_name}} using Doc2Vec"
   ]
  },
  {
   "cell_type": "code",
   "execution_count": 155,
   "metadata": {},
   "outputs": [
    {
     "name": "stdout",
     "output_type": "stream",
     "text": [
      "all i have to give\n",
      "\n",
      " i dont know what he does to make you cry but ill be there to make you smile i dont have a fancy car to get to you id walk a thousand miles i dont care if he buys you nice things does his gifts come from the heart i dont know but if you were my girl id make it so wed never be apartbut my love is all i have to give without you i dont think i can live i wish i could give the world to you but love is all i have to givewhen you talk does it seem like hes not even listening to a word you say thats okay babe just tell me your problems ill try my best to kiss them all away does he leave when you need him the most does his friends get all your time baby please im on my knees praying for the day that youll be minebut my love is all i have to give without you i dont think i can live i wish i could give the world to you but love is all i have to giveto you hey girl hey girl i dont want you to cry no more inside all the money in the world could never add up to all the love i have inside i love youand i will give it to you all i can give all i can give everything i have is for you my love is all i have to givemy love is all i have to give without you i dont think i can live i wish i could give the world to you but love is all i have to givebut my love is all i have to give without you i dont think i can live i wish i could give the world to you but love is all i have to give to youi have to give without you i dont think i can live give the world to you but love is all i have to givebut my love is all i have to give without you i dont think i can live i wish i could give the world to you but love is all i have to give to you \n",
      "\n",
      "love will never do without you\n",
      "\n",
      " our friends think were opposites falling in and out of love they all said wed never last still we manage to stay together theres no easy explanation for it but whenever theres a problem we always work it out somehow work it out somehowthey said it wouldnt last we had to prove them wrong cause ive learned in the past that love will never do without youother guys have tried before to replace you as my lover never did i have a doubt boy its you i cant do without i feel better when i have you near me cause no other love around has quite the same ooh ooh ha ha ha like you do do do do babethey said it wouldnt last we had to prove them wrong cause ive learned in the past that love will never do without youdo without you love will never do without you do without youlove will never do never do without you love will never do never do without you love will never do never do without you love will never do never do without you never never do never never do without youwhat they said it they said it wouldnt last they said it they said it wouldnt last they said it they said it wouldnt last they said it if you believe in love say love will never do love will never do without you they said it wouldnt last we had to prove them wrong cause ive learned in the past that love will never do without you \n",
      "\n",
      "the sweetest thing ive ever known\n",
      "\n",
      " when i see you in the morning that old sleep still in your eyes i remember all the laughter and the tears we shared last nightand as we lie here just two shadows in the light before the dawn the sweetest thing ive ever known is loving youand i have never been afraid of losing and i have never wanted love to be a chain i only know that when im with you youre my sunshine youre my rain the sweetest thing ive ever known is loving younow you and i were not children we have both been loved before we have given and we have taken many rides on troubled shoresand all the heartaches and temptations only make me love you more the sweetest thing ive ever known is loving youand i have never been afraid of losing and i have never wanted love to be a chain i only know that when im with you youre my sunshine youre my rain the sweetest thing ive ever known is loving youthe sweetest thing ive ever known is loving you \n",
      "\n",
      "our love dont throw it all away\n",
      "\n",
      " maybe i dont wanna know the reason why but lately you dont talk to me darling i cant see me in your eyesi hold you near but youre so far away and its losing you i cant believe to watch you leave and let this feeling dieyou alone are the living thing that keeps me alive and tomorrow if im here without your love you know i cant survive only my love can raise you high above it alldont throw it all away our love our love dont throw it all away our love dont throw it all away our love our love dont throw it all away our lovewe can take the darkness and make it full of light but let your love flow back to me how can you leave and let this feeling diethis happy room will be a lonely place when you are gone and i wont even have your shoulders for the crying on no other womans love could be as true im begging youdont throw it all away our love our love dont throw it all away our love dont throw it all away our love our love dont throw it all away our lovewe changed the world we made it ours to hold but dreams are made for those who really try this losing you is real but i still feel you here insidedont throw it all away our love our love dont throw it all away our love dont throw it all away our love our love dont throw it all away our lovedont throw it all away our love our love dont throw it all away our love dont throw it all away our love our love dont throw it all away our lovedont throw it all away our love our love dont throw it all away our love dont throw it all away our love our love dont throw it all away our lovedont throw it all away our love our love dont throw it all away our love dont throw it all away our love our love dont throw it all away our lovedont throw it all away our love our love dont throw it all away our love \n",
      "\n",
      "vision of love\n",
      "\n",
      " treated me kind sweet destiny carried me through desperation to the one that was waiting for me it took so long still i believed somehow the one that i needed would find me eventuallyi had a vision of love and it was all that youve given to meprayed through the nights felt so alone suffered through alienation carried the weight on my own had to be strong so i believed and now i know ive succeeded in finding the place i conceivedi had a vision of love and it was all that youve given to me i had a vision of love and it was all that youve given meive realized a dream and i visualized the love that came to be feel so alive im so thankful that ive received the answer that heaven has sent down to meyou treated me kind sweet destiny and ill be eternally grateful holding you so close to me prayed through the nights so faithfully knowing the one that i needed would find me eventuallyi had a vision of love and it was all that youve given to me i had a vision of love and it was all that you turned out to be \n",
      "\n",
      "heartbreaker\n",
      "\n",
      " ive got to say it and its hard for me you got me crying like i thought i would never be love is believing but you let me down how can i love you when you aint aroundand i look into the morning and you never call love should be everything or not at all and it dont matter whatever you do ive made a life out of loving youonly to find any dream that i follow is dying im crying in the rain i could be searching my world for a love ever lasting feeling no pain when will we meet againwhy do you have to be a heartbreaker is it a lesson that i never knew gotta get out of the spell that im under my love for youwhy do you have to be a heartbreaker when i was being what you want me to be suddenly everything i ever wanted has passed me by this world may end not you and imy love is stronger than the universe my soul is crying for you and that cannot be reversed youve made the rules and you could not see youve made a life out of hurting meout of my mind i am held by the power of you love tell me when do we try or should we say goodbyewhy do you have to be a heartbreaker when i was being what you want me to be suddenly everything i ever wanted has passed me byoh why do you have to be a heartbreaker is it a lesson that i never knew suddenly everything i ever wanted my love for youoh why do you have to be a heartbreaker when i was being what you want me to be suddenly everything i ever wanted has passed me byhelp me why do you have to be a heartbreaker \n",
      "\n",
      "time is time\n",
      "\n",
      " time it goes on waits for nobody special in the prime of my life ill remember you livin and breathin and some misbelievin but i cant hold you women no piece of youyou were the magic my only believer my life on the line for you all that i give to youtime is time dont give me no time to waste away love is love keep me alive to my dying day now is now we capture the world and love will make it all right all righttime it goes on waits for nothing on over but i still see your sun that you shine on me giving and taking and always mistakin but ill follow you women eternallyyou were the magic my only believer my life on the line for you all that i give to youtime is time dont give me no time to waste away love is love keep me alive to my dying day now is now we capture the world and love will make it all right all rightsetting my sights in one only direction searching for romance and showing affection i guess i better know one standing in the cold dark waiting for your lovetime is time dont give me no wrong in makin love love is love turn me around till you burn me up now is now we master the world and time will make it all right all righttime is time dont give me no wrong in makin love love is love turn me around till you burn me up now is now we master the world and time will make it all right all righttime is time dont give me no wrong in makin love love is love turn me around till you burn me up now is now we master the world and time will make it all right all right  \n",
      "\n",
      "everytime i think of you\n",
      "\n",
      "everytime i think of you it always turns out good everytime ive held you i thought you understood people say a love like ours will surely pass but i know a love like ours will last and last but maybe i was wrong not knowing how our love should go how our love how our love should go but i wasnt wrong in knowing how our love would grow how our love how our love would grow and everytime i think of you everytime everytime i think of you every single time it always turns out good seasons come and seasons go but our love will never die let me hold you darlin so you wont cry cause people say that our love affair will never last but we know a love like ours will never pass but maybe i was wrong not knowing how our love should go how our love how our love should go but i wasnt wrong in knowing how our love would grow how our love how our love would grow and everytime i think of you everytime everytime i think of you every single time it always turns out good people say a love like ours will surely pass but i know a love like ours will last and last but maybe i was wrong not knowing how our love should go how our love how our love should go but i wasnt wrong in knowing how our love would grow how our love how our love would grow everytime i think of you everytime i think of you everytime i think of you it always turns out good everytime i think of you everytime i think of you everytime i think of you \n",
      "\n",
      "looking for a new love\n",
      "\n",
      " hasta la vista babyyou gave me love you did me wrong didnt know what to do but baby im strong gonna get over you a new boy im gonna choose  youll seemy love was true still you threw it all away now other guys will have me theyll appreciate my love tell me how does it feelyou know that i needed you you know that you meant the world to me you know i had to have you now im gonna find somebody newim looking for a new love baby a new love yeah yeah yeah im looking for a new love baby a new love yeah yeah yeahwas she hot did she turn you out curiosity rules my brain was she worth my heart its torn all apart are you going back again tell memy love was true still you threw it all away but now youre like the rest unworthy of my best hasta la vista babyyou know that i needed you you know that you meant the world to me you know i had to have you now im gonna find somebody newim looking for a new love baby a new love yeah yeah yeah im looking for a new love baby a new love yeah yeah yeahim looking for a new love baby a new love yeah yeah yeah im looking for a new love baby a new love yeah yeah yeahyou know that i needed you you know that you meant the world to me i had to have you now im gonna find somebody newim looking for a new love baby a new love yeah yeah yeah im looking for a new love baby a new love yeah yeah yeahim looking for a new love baby a new love yeah yeah yeah im looking for a new love baby a new love yeah yeah yeahother guys will have me theyll appreciate my love tell me how does it feel now youre like the rest unworthy of my best hasta la vista babyim looking for a new love baby other guys will have me theyll appreciate my love im looking for a new love baby tell me how does it feel im looking for a new love baby now youre like the rest unworthy of my bestim looking for a new love baby a new love im looking for a new love baby a new love im looking for a new love baby a new love hasta la vista baby \n",
      "\n",
      "our love\n",
      "\n",
      " youre my morning star shining brightly beside me and if we keep this love we will last through all eternity just the way we are i love it love it its just the way it should be cause our love will stand tall as the trees our love will spread wide as the seas our love will shine bright in the night like the stars above and well always be together our lovemy love is surely one thing you can surely depend on in times of darkness and fear i go to you i know youll make me strong youre gonna make me happy youre gonna make me smilecause our love will stand tall as the trees our love will be for the whole world to see our love will change peoples wrongs to right and we will never die cause well always have each otherour love will stand tall as the trees our love will spread as wide as the seas our love will shine bright in the night like the stars and well always be together yeah yeah babyour love we got a mighty mighty good love our love we got a mighty mighty good lovebring it down just a little cause love is soft love is sweet love is nice and love is gentle love is joy love is pain love is laughing in the rainive got love on my mind love is always right on time love is you and love is me love is gonna set you freebaby baby our love \n",
      "\n"
     ]
    }
   ],
   "source": [
    "for i,d in d2v.docvecs.most_similar(str(song_id),topn=10):\n",
    "    print(df.iloc[int(i)]['Song'])\n",
    "    print()\n",
    "    print(df.iloc[int(i)]['Lyrics'])\n",
    "    print()"
   ]
  },
  {
   "cell_type": "markdown",
   "metadata": {},
   "source": [
    "# Use chi-square test to show that the difference between Doc2Vec and Word2Vec are not the same"
   ]
  },
  {
   "cell_type": "code",
   "execution_count": 156,
   "metadata": {},
   "outputs": [],
   "source": [
    "from scipy.stats import chisquare"
   ]
  },
  {
   "cell_type": "code",
   "execution_count": 157,
   "metadata": {},
   "outputs": [],
   "source": [
    "df2 = df.dropna()"
   ]
  },
  {
   "cell_type": "code",
   "execution_count": 158,
   "metadata": {},
   "outputs": [
    {
     "data": {
      "text/plain": [
       "Power_divergenceResult(statistic=3140.8421539750702, pvalue=nan)"
      ]
     },
     "execution_count": 158,
     "metadata": {},
     "output_type": "execute_result"
    }
   ],
   "source": [
    "chisquare(f_obs=df2['d2v_similarity'],f_exp=df2['w2v_similarity'],ddof=len(df2)-1)"
   ]
  },
  {
   "cell_type": "code",
   "execution_count": 159,
   "metadata": {},
   "outputs": [
    {
     "data": {
      "text/plain": [
       "4897"
      ]
     },
     "execution_count": 159,
     "metadata": {},
     "output_type": "execute_result"
    }
   ],
   "source": [
    "len(df2)"
   ]
  },
  {
   "cell_type": "code",
   "execution_count": 160,
   "metadata": {
    "scrolled": true
   },
   "outputs": [
    {
     "name": "stderr",
     "output_type": "stream",
     "text": [
      "/anaconda3/lib/python3.6/site-packages/ipykernel_launcher.py:1: SettingWithCopyWarning: \n",
      "A value is trying to be set on a copy of a slice from a DataFrame.\n",
      "Try using .loc[row_indexer,col_indexer] = value instead\n",
      "\n",
      "See the caveats in the documentation: http://pandas.pydata.org/pandas-docs/stable/indexing.html#indexing-view-versus-copy\n",
      "  \"\"\"Entry point for launching an IPython kernel.\n",
      "/anaconda3/lib/python3.6/site-packages/ipykernel_launcher.py:2: SettingWithCopyWarning: \n",
      "A value is trying to be set on a copy of a slice from a DataFrame.\n",
      "Try using .loc[row_indexer,col_indexer] = value instead\n",
      "\n",
      "See the caveats in the documentation: http://pandas.pydata.org/pandas-docs/stable/indexing.html#indexing-view-versus-copy\n",
      "  \n"
     ]
    }
   ],
   "source": [
    "df2['d2v_similarity'] = df2['d2v_similarity'].apply(lambda x:round(x,1))\n",
    "df2['w2v_similarity'] = df2['w2v_similarity'].apply(lambda x:round(x,1))"
   ]
  },
  {
   "cell_type": "markdown",
   "metadata": {},
   "source": [
    "# Doc2Vec Similarity Frequency Distribution"
   ]
  },
  {
   "cell_type": "code",
   "execution_count": 210,
   "metadata": {
    "scrolled": true
   },
   "outputs": [
    {
     "data": {
      "text/plain": [
       "Text(0,0.5,'Frequency')"
      ]
     },
     "execution_count": 210,
     "metadata": {},
     "output_type": "execute_result"
    },
    {
     "data": {
      "image/png": "[encoded data removed]",
      "text/plain": [
       "<matplotlib.figure.Figure at 0x110f1a828>"
      ]
     },
     "metadata": {},
     "output_type": "display_data"
    }
   ],
   "source": [
    "plt.figure(figsize=(15,5))\n",
    "plt.hist(df2['d2v_similarity'],df2.groupby('d2v_similarity').count()['Rank'].index)\n",
    "plt.title(\"Doc2Vec Similarity Frequency Distribution\")\n",
    "plt.xlabel(\"Similarity\")\n",
    "plt.ylabel(\"Frequency\")"
   ]
  },
  {
   "cell_type": "markdown",
   "metadata": {},
   "source": [
    "# Word2Vec Similarity Frequency Distribution"
   ]
  },
  {
   "cell_type": "code",
   "execution_count": 214,
   "metadata": {
    "scrolled": true
   },
   "outputs": [
    {
     "data": {
      "text/plain": [
       "Text(0,0.5,'Frequency')"
      ]
     },
     "execution_count": 214,
     "metadata": {},
     "output_type": "execute_result"
    },
    {
     "data": {
      "image/png": "[encoded data removed]",
      "text/plain": [
       "<matplotlib.figure.Figure at 0x10edd4390>"
      ]
     },
     "metadata": {},
     "output_type": "display_data"
    }
   ],
   "source": [
    "plt.figure(figsize=(15,5))\n",
    "plt.hist(df2['w2v_similarity'],df2.groupby('w2v_similarity').count()['Rank'].index)\n",
    "plt.title(\"Word2Vec Similarity Frequency Distribution\")\n",
    "plt.xlabel(\"Similarity\")\n",
    "plt.ylabel(\"Frequency\")"
   ]
  },
  {
   "cell_type": "markdown",
   "metadata": {},
   "source": [
    "# Word2Vec Mean Median Mode Std.deviation"
   ]
  },
  {
   "cell_type": "code",
   "execution_count": 163,
   "metadata": {
    "scrolled": true
   },
   "outputs": [
    {
     "name": "stdout",
     "output_type": "stream",
     "text": [
      "0.22752705738207818\n",
      "0.2\n",
      "0    0.1\n",
      "dtype: float64\n",
      "0.17346982316117554\n"
     ]
    }
   ],
   "source": [
    "print(df2['w2v_similarity'].mean())\n",
    "print(df2['w2v_similarity'].median())\n",
    "print(df2['w2v_similarity'].mode())\n",
    "print(df2['w2v_similarity'].std())"
   ]
  },
  {
   "cell_type": "markdown",
   "metadata": {},
   "source": [
    "# Doc2Vec Mean Median Mode Std.deviation"
   ]
  },
  {
   "cell_type": "code",
   "execution_count": 164,
   "metadata": {},
   "outputs": [
    {
     "name": "stdout",
     "output_type": "stream",
     "text": [
      "0.32191137431080213\n",
      "0.3\n",
      "0    0.3\n",
      "dtype: float64\n",
      "0.20750763310653633\n"
     ]
    }
   ],
   "source": [
    "print(df2['d2v_similarity'].mean())\n",
    "print(df2['d2v_similarity'].median())\n",
    "print(df2['d2v_similarity'].mode())\n",
    "print(df2['d2v_similarity'].std())"
   ]
  },
  {
   "cell_type": "code",
   "execution_count": 165,
   "metadata": {},
   "outputs": [],
   "source": [
    "from scipy.stats.mstats import normaltest"
   ]
  },
  {
   "cell_type": "markdown",
   "metadata": {},
   "source": [
    "## Normality Test rejects null hypothesis that W2V is normally distributed"
   ]
  },
  {
   "cell_type": "code",
   "execution_count": 166,
   "metadata": {},
   "outputs": [
    {
     "data": {
      "text/plain": [
       "NormaltestResult(statistic=2797.958243224847, pvalue=0.0)"
      ]
     },
     "execution_count": 166,
     "metadata": {},
     "output_type": "execute_result"
    }
   ],
   "source": [
    "normaltest(df2['w2v_similarity'])"
   ]
  },
  {
   "cell_type": "markdown",
   "metadata": {},
   "source": [
    "## Normality Test rejects null hypothesis that D2V is normally distributed"
   ]
  },
  {
   "cell_type": "code",
   "execution_count": 167,
   "metadata": {},
   "outputs": [
    {
     "data": {
      "text/plain": [
       "NormaltestResult(statistic=71.14217197263038, pvalue=3.5618337180453454e-16)"
      ]
     },
     "execution_count": 167,
     "metadata": {},
     "output_type": "execute_result"
    }
   ],
   "source": [
    "normaltest(df2['d2v_similarity'])"
   ]
  },
  {
   "cell_type": "markdown",
   "metadata": {},
   "source": [
    "# Finding lyrics with greatest difference in similarity results produced by Doc2Vec and Word2Vec"
   ]
  },
  {
   "cell_type": "code",
   "execution_count": 168,
   "metadata": {},
   "outputs": [],
   "source": [
    "df3 = df\n",
    "df3['x'] = abs(df['d2v_similarity']-df['w2v_similarity'])"
   ]
  },
  {
   "cell_type": "code",
   "execution_count": 169,
   "metadata": {},
   "outputs": [
    {
     "data": {
      "text/html": [
       "<div>\n",
       "<style scoped>\n",
       "    .dataframe tbody tr th:only-of-type {\n",
       "        vertical-align: middle;\n",
       "    }\n",
       "\n",
       "    .dataframe tbody tr th {\n",
       "        vertical-align: top;\n",
       "    }\n",
       "\n",
       "    .dataframe thead th {\n",
       "        text-align: right;\n",
       "    }\n",
       "</style>\n",
       "<table border=\"1\" class=\"dataframe\">\n",
       "  <thead>\n",
       "    <tr style=\"text-align: right;\">\n",
       "      <th></th>\n",
       "      <th>Rank</th>\n",
       "      <th>Song</th>\n",
       "      <th>Artist</th>\n",
       "      <th>Year</th>\n",
       "      <th>Lyrics</th>\n",
       "      <th>Source</th>\n",
       "      <th>d2v_similarity</th>\n",
       "      <th>w2v_vector</th>\n",
       "      <th>w2v_similarity</th>\n",
       "      <th>x</th>\n",
       "    </tr>\n",
       "  </thead>\n",
       "  <tbody>\n",
       "    <tr>\n",
       "      <th>3882</th>\n",
       "      <td>60</td>\n",
       "      <td>la tortura</td>\n",
       "      <td>shakira featuring alejandro sanz</td>\n",
       "      <td>2005</td>\n",
       "      <td>ay padrita mÌ_a guÌÁrdate la poesÌ_a guÌÁrdat...</td>\n",
       "      <td>1.0</td>\n",
       "      <td>-0.317299</td>\n",
       "      <td>[0.029544478, -0.046306677, 0.09437567, 0.0933...</td>\n",
       "      <td>1.359021</td>\n",
       "      <td>1.676320</td>\n",
       "    </tr>\n",
       "    <tr>\n",
       "      <th>4894</th>\n",
       "      <td>96</td>\n",
       "      <td>el perdon</td>\n",
       "      <td>nicky jam and enrique iglesias</td>\n",
       "      <td>2015</td>\n",
       "      <td>enrique iglesias dime si es verdad me dijeron ...</td>\n",
       "      <td>3.0</td>\n",
       "      <td>-0.329282</td>\n",
       "      <td>[0.015417236, -0.012782908, 0.09188404, 0.0897...</td>\n",
       "      <td>1.290817</td>\n",
       "      <td>1.620100</td>\n",
       "    </tr>\n",
       "    <tr>\n",
       "      <th>2957</th>\n",
       "      <td>1</td>\n",
       "      <td>macarena bayside boys mix</td>\n",
       "      <td>los del r'io</td>\n",
       "      <td>1996</td>\n",
       "      <td>dale a tu cuerpo alegria macarena que tu cuer...</td>\n",
       "      <td>1.0</td>\n",
       "      <td>-0.150240</td>\n",
       "      <td>[0.047956422, -0.0678671, 0.062467128, 0.12127...</td>\n",
       "      <td>1.418623</td>\n",
       "      <td>1.568863</td>\n",
       "    </tr>\n",
       "    <tr>\n",
       "      <th>3044</th>\n",
       "      <td>98</td>\n",
       "      <td>macarena</td>\n",
       "      <td>los del r'io</td>\n",
       "      <td>1996</td>\n",
       "      <td>dale a tu cuerpo alegria macarena que tu cuer...</td>\n",
       "      <td>1.0</td>\n",
       "      <td>-0.119493</td>\n",
       "      <td>[0.047956422, -0.0678671, 0.062467128, 0.12127...</td>\n",
       "      <td>1.418623</td>\n",
       "      <td>1.538116</td>\n",
       "    </tr>\n",
       "    <tr>\n",
       "      <th>3122</th>\n",
       "      <td>82</td>\n",
       "      <td>macarena bayside boys mix</td>\n",
       "      <td>los del r'io</td>\n",
       "      <td>1997</td>\n",
       "      <td>dale a tu cuerpo alegria macarena que tu cuer...</td>\n",
       "      <td>1.0</td>\n",
       "      <td>-0.061894</td>\n",
       "      <td>[0.047956422, -0.0678671, 0.062467128, 0.12127...</td>\n",
       "      <td>1.418623</td>\n",
       "      <td>1.480516</td>\n",
       "    </tr>\n",
       "    <tr>\n",
       "      <th>4738</th>\n",
       "      <td>38</td>\n",
       "      <td>bailando</td>\n",
       "      <td>enrique iglesias featuring descemer bueno and ...</td>\n",
       "      <td>2014</td>\n",
       "      <td>yo te miro se me corta la respiraciÌ_n cuanto...</td>\n",
       "      <td>1.0</td>\n",
       "      <td>-0.215929</td>\n",
       "      <td>[0.017414687, -0.0046188235, 0.08088088, 0.092...</td>\n",
       "      <td>1.223450</td>\n",
       "      <td>1.439380</td>\n",
       "    </tr>\n",
       "    <tr>\n",
       "      <th>654</th>\n",
       "      <td>100</td>\n",
       "      <td>somos novios its impossible</td>\n",
       "      <td>perry como</td>\n",
       "      <td>1971</td>\n",
       "      <td>feat christina aguileraandrea somos novios pu...</td>\n",
       "      <td>1.0</td>\n",
       "      <td>-0.054958</td>\n",
       "      <td>[0.0332309, -0.07186207, 0.06267809, 0.1415184...</td>\n",
       "      <td>1.378191</td>\n",
       "      <td>1.433149</td>\n",
       "    </tr>\n",
       "    <tr>\n",
       "      <th>2085</th>\n",
       "      <td>11</td>\n",
       "      <td>la bamba</td>\n",
       "      <td>los lobos</td>\n",
       "      <td>1987</td>\n",
       "      <td>para bailar la bamba para bailar la bamba se ...</td>\n",
       "      <td>1.0</td>\n",
       "      <td>0.001096</td>\n",
       "      <td>[0.02388951, -0.066721246, 0.09147538, 0.16289...</td>\n",
       "      <td>1.406564</td>\n",
       "      <td>1.405468</td>\n",
       "    </tr>\n",
       "    <tr>\n",
       "      <th>173</th>\n",
       "      <td>83</td>\n",
       "      <td>guantanamera</td>\n",
       "      <td>the sandpipers</td>\n",
       "      <td>1966</td>\n",
       "      <td>guantanamera guajira guantanamera guantanamer...</td>\n",
       "      <td>1.0</td>\n",
       "      <td>0.067771</td>\n",
       "      <td>[0.027149564, -0.07011403, 0.090014845, 0.1365...</td>\n",
       "      <td>1.402113</td>\n",
       "      <td>1.334342</td>\n",
       "    </tr>\n",
       "    <tr>\n",
       "      <th>810</th>\n",
       "      <td>69</td>\n",
       "      <td>hocus pocus</td>\n",
       "      <td>focus</td>\n",
       "      <td>1973</td>\n",
       "      <td>Ì«i orÌ«rÌ«i rÌ«rÌ«rÌ«i rÌ«rÌ«rÌ«i rÌ«rÌ«rÌ«i ...</td>\n",
       "      <td>3.0</td>\n",
       "      <td>0.016090</td>\n",
       "      <td>[0.023343429, -0.047198303, 0.10224481, 0.1838...</td>\n",
       "      <td>1.332735</td>\n",
       "      <td>1.316645</td>\n",
       "    </tr>\n",
       "  </tbody>\n",
       "</table>\n",
       "</div>"
      ],
      "text/plain": [
       "      Rank                         Song  \\\n",
       "3882    60                   la tortura   \n",
       "4894    96                    el perdon   \n",
       "2957     1    macarena bayside boys mix   \n",
       "3044    98                     macarena   \n",
       "3122    82    macarena bayside boys mix   \n",
       "4738    38                     bailando   \n",
       "654    100  somos novios its impossible   \n",
       "2085    11                     la bamba   \n",
       "173     83                 guantanamera   \n",
       "810     69                  hocus pocus   \n",
       "\n",
       "                                                 Artist  Year  \\\n",
       "3882                   shakira featuring alejandro sanz  2005   \n",
       "4894                     nicky jam and enrique iglesias  2015   \n",
       "2957                                       los del r'io  1996   \n",
       "3044                                       los del r'io  1996   \n",
       "3122                                       los del r'io  1997   \n",
       "4738  enrique iglesias featuring descemer bueno and ...  2014   \n",
       "654                                          perry como  1971   \n",
       "2085                                          los lobos  1987   \n",
       "173                                      the sandpipers  1966   \n",
       "810                                               focus  1973   \n",
       "\n",
       "                                                 Lyrics  Source  \\\n",
       "3882   ay padrita mÌ_a guÌÁrdate la poesÌ_a guÌÁrdat...     1.0   \n",
       "4894  enrique iglesias dime si es verdad me dijeron ...     3.0   \n",
       "2957   dale a tu cuerpo alegria macarena que tu cuer...     1.0   \n",
       "3044   dale a tu cuerpo alegria macarena que tu cuer...     1.0   \n",
       "3122   dale a tu cuerpo alegria macarena que tu cuer...     1.0   \n",
       "4738   yo te miro se me corta la respiraciÌ_n cuanto...     1.0   \n",
       "654    feat christina aguileraandrea somos novios pu...     1.0   \n",
       "2085   para bailar la bamba para bailar la bamba se ...     1.0   \n",
       "173    guantanamera guajira guantanamera guantanamer...     1.0   \n",
       "810   Ì«i orÌ«rÌ«i rÌ«rÌ«rÌ«i rÌ«rÌ«rÌ«i rÌ«rÌ«rÌ«i ...     3.0   \n",
       "\n",
       "      d2v_similarity                                         w2v_vector  \\\n",
       "3882       -0.317299  [0.029544478, -0.046306677, 0.09437567, 0.0933...   \n",
       "4894       -0.329282  [0.015417236, -0.012782908, 0.09188404, 0.0897...   \n",
       "2957       -0.150240  [0.047956422, -0.0678671, 0.062467128, 0.12127...   \n",
       "3044       -0.119493  [0.047956422, -0.0678671, 0.062467128, 0.12127...   \n",
       "3122       -0.061894  [0.047956422, -0.0678671, 0.062467128, 0.12127...   \n",
       "4738       -0.215929  [0.017414687, -0.0046188235, 0.08088088, 0.092...   \n",
       "654        -0.054958  [0.0332309, -0.07186207, 0.06267809, 0.1415184...   \n",
       "2085        0.001096  [0.02388951, -0.066721246, 0.09147538, 0.16289...   \n",
       "173         0.067771  [0.027149564, -0.07011403, 0.090014845, 0.1365...   \n",
       "810         0.016090  [0.023343429, -0.047198303, 0.10224481, 0.1838...   \n",
       "\n",
       "      w2v_similarity         x  \n",
       "3882        1.359021  1.676320  \n",
       "4894        1.290817  1.620100  \n",
       "2957        1.418623  1.568863  \n",
       "3044        1.418623  1.538116  \n",
       "3122        1.418623  1.480516  \n",
       "4738        1.223450  1.439380  \n",
       "654         1.378191  1.433149  \n",
       "2085        1.406564  1.405468  \n",
       "173         1.402113  1.334342  \n",
       "810         1.332735  1.316645  "
      ]
     },
     "execution_count": 169,
     "metadata": {},
     "output_type": "execute_result"
    }
   ],
   "source": [
    "df3.nlargest(10,'x')"
   ]
  },
  {
   "cell_type": "code",
   "execution_count": 170,
   "metadata": {},
   "outputs": [
    {
     "name": "stdout",
     "output_type": "stream",
     "text": [
      " ooh oohwere no strangers to love you know the rules and so do i a full commitments what im thinking of you wouldnt get this from any other guy i just wanna tell you how im feeling gotta make you unde ...\n",
      "------------------------------------------------------------\n",
      "enrique iglesias dime si es verdad me dijeron que te estas casando tÌ¼ no sabes lo estoy sufriendo esto te lo tengo que decir nicky jam cuÌ©ntame tu despedida para mi fue dura serÌÁ que te llevo a la  ...\n",
      "\n",
      " dale a tu cuerpo alegria macarena que tu cuerpo es pa darle alegria y cosa buena dale a tu cuerpo alegria macarena hey macarenadale a tu cuerpo alegria macarena que tu cuerpo es pa darle alegria y co ...\n",
      "\n",
      " rack rack city bitch rack rack rack city bitch rack rack rack rack city bitch mustard on the beat horack city bitch rack rack city bitch ten ten ten twenty on yo titties bitch 100 deep vip no guest l ...\n",
      "\n",
      " ay padrita mÌ_a guÌÁrdate la poesÌ_a guÌÁrdate la alegrÌ_a pa tidame dame dÌÁmelo ohno pido que todos los dÌ_as sean de sol no pido que todos los viernes sean de fiesta tampoco te pido que vuelvas ro ...\n",
      "\n",
      " para bailar la bamba para bailar la bamba se necesita una poca de gracia una poca de gracia pa mi pa ti y arriba y arriba ah y arriba y arriba por ti serÌ© por ti serÌ© por ti serÌ©yo no soy marinero ...\n"
     ]
    }
   ],
   "source": [
    "print(df.iloc[2178].Lyrics[:200],\"...\")\n",
    "print('------------------------------------------------------------')\n",
    "print(df.iloc[4894].Lyrics[:200],\"...\")\n",
    "print()\n",
    "print(df.iloc[2957].Lyrics[:200],\"...\")\n",
    "print()\n",
    "print(df.iloc[4548].Lyrics[:200],\"...\")\n",
    "print()\n",
    "print(df.iloc[3882].Lyrics[:200],\"...\")\n",
    "print()\n",
    "print(df.iloc[2085].Lyrics[:200],\"...\")"
   ]
  },
  {
   "cell_type": "code",
   "execution_count": null,
   "metadata": {},
   "outputs": [],
   "source": []
  }
 ],
 "metadata": {
  "kernelspec": {
   "display_name": "Python 3",
   "language": "python",
   "name": "python3"
  },
  "language_info": {
   "codemirror_mode": {
    "name": "ipython",
    "version": 3
   },
   "file_extension": ".py",
   "mimetype": "text/x-python",
   "name": "python",
   "nbconvert_exporter": "python",
   "pygments_lexer": "ipython3",
   "version": "3.6.4"
  }
 },
 "nbformat": 4,
 "nbformat_minor": 2
}
