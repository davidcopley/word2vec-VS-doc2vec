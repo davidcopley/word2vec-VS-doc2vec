{
 "cells": [
  {
   "cell_type": "markdown",
   "metadata": {},
   "source": [
    "# Null hypothesis: There is no difference in similarities of documents analyzed through by Doc2Vec and Word2Vec\n",
    "\n",
    "# Alternate hypothesis: There are differences in similarities of documents  analyzed through Doc2Vec and Word2Vec"
   ]
  },
  {
   "cell_type": "code",
   "execution_count": 45,
   "metadata": {},
   "outputs": [],
   "source": [
    "import pandas as pd"
   ]
  },
  {
   "cell_type": "code",
   "execution_count": 46,
   "metadata": {},
   "outputs": [],
   "source": [
    "from gensim.models import doc2vec\n",
    "from gensim.models import word2vec"
   ]
  },
  {
   "cell_type": "code",
   "execution_count": 47,
   "metadata": {},
   "outputs": [],
   "source": [
    "def label_sentence(sentence, label):\n",
    "    return doc2vec.LabeledSentence(words=sentence, tags=[label])"
   ]
  },
  {
   "cell_type": "code",
   "execution_count": 48,
   "metadata": {},
   "outputs": [],
   "source": [
    "df = pd.read_csv(\"./billboard.csv\",encoding=\"latin\")"
   ]
  },
  {
   "cell_type": "code",
   "execution_count": 49,
   "metadata": {},
   "outputs": [],
   "source": [
    "df = df.dropna()\n",
    "df = df[df['Lyrics']!=\"instrumental\"]"
   ]
  },
  {
   "cell_type": "code",
   "execution_count": 50,
   "metadata": {},
   "outputs": [],
   "source": [
    "df.drop('Rank',axis=1)\n",
    "df = df.reset_index(drop=True)"
   ]
  },
  {
   "cell_type": "code",
   "execution_count": 51,
   "metadata": {},
   "outputs": [
    {
     "name": "stdout",
     "output_type": "stream",
     "text": [
      "never gonna give you up - rick astley\n"
     ]
    }
   ],
   "source": [
    "song_id=2178\n",
    "song_name = df.iloc[song_id]['Song']+\" - \"+df.iloc[song_id]['Artist']\n",
    "print(song_name)"
   ]
  },
  {
   "cell_type": "markdown",
   "metadata": {},
   "source": [
    "# Preparing Labelled Sentences for training Doc2Vec"
   ]
  },
  {
   "cell_type": "code",
   "execution_count": 52,
   "metadata": {},
   "outputs": [
    {
     "name": "stderr",
     "output_type": "stream",
     "text": [
      "/anaconda3/lib/python3.6/site-packages/ipykernel_launcher.py:2: DeprecationWarning: Call to deprecated `LabeledSentence` (Class will be removed in 4.0.0, use TaggedDocument instead).\n",
      "  \n"
     ]
    }
   ],
   "source": [
    "docs = []\n",
    "for i in range(len(df)):\n",
    "    row = df.iloc[i]\n",
    "    lyrics = row['Lyrics']\n",
    "    if(lyrics != \"instrumental\"):\n",
    "        docs.append(label_sentence(lyrics,str(i)))"
   ]
  },
  {
   "cell_type": "markdown",
   "metadata": {},
   "source": [
    "# Training Doc2Vec and Word2Vec on same set of Lyrics (Billboard songs 1965 - 2015)"
   ]
  },
  {
   "cell_type": "code",
   "execution_count": 53,
   "metadata": {},
   "outputs": [
    {
     "name": "stderr",
     "output_type": "stream",
     "text": [
      "/anaconda3/lib/python3.6/site-packages/gensim/models/doc2vec.py:366: UserWarning: The parameter `size` is deprecated, will be removed in 4.0.0, use `vector_size` instead.\n",
      "  warnings.warn(\"The parameter `size` is deprecated, will be removed in 4.0.0, use `vector_size` instead.\")\n"
     ]
    }
   ],
   "source": [
    "d2v = doc2vec.Doc2Vec(docs, size=300, window=8, min_count=5, workers=4)\n",
    "w2v = word2vec.Word2Vec(df['Lyrics'].apply(lambda x:x.split(\" \")), size=300, window= 8, min_count=5,workers=4)"
   ]
  },
  {
   "cell_type": "code",
   "execution_count": 54,
   "metadata": {},
   "outputs": [],
   "source": [
    "d2v_sim = [None]*len(df)\n",
    "for i,d in d2v.docvecs.most_similar(str(song_id),topn=len(df)):\n",
    "    d2v_sim[int(i)] = d"
   ]
  },
  {
   "cell_type": "markdown",
   "metadata": {},
   "source": [
    "# Adding Doc2Vec similarity of {{song_name}} lyrics to lyrics of all other songs to data frame column "
   ]
  },
  {
   "cell_type": "code",
   "execution_count": 55,
   "metadata": {},
   "outputs": [],
   "source": [
    "df['d2v_similarity']=d2v_sim"
   ]
  },
  {
   "cell_type": "code",
   "execution_count": 56,
   "metadata": {},
   "outputs": [],
   "source": [
    "import numpy as np\n",
    "\n",
    "def normalize(word_vec):\n",
    "    norm=np.linalg.norm(word_vec)\n",
    "    if norm == 0: \n",
    "       return word_vec\n",
    "    return word_vec/norm\n",
    "def getWord2VecSentenceVector(sentence):\n",
    "    sentence = sentence.split(\" \")\n",
    "    vector = None\n",
    "    i = 0\n",
    "    for word in sentence:\n",
    "        try:\n",
    "            v = w2v[word]\n",
    "            if(vector is None):\n",
    "                vector = v\n",
    "                i+=1\n",
    "            else:\n",
    "                vector =vector+v\n",
    "        except:\n",
    "            continue\n",
    "    vector /= i\n",
    "    return normalize(vector)"
   ]
  },
  {
   "cell_type": "markdown",
   "metadata": {},
   "source": [
    "# Adding Word2Vec similarity of {{song_name}} lyrics to lyrics of all other songs to data frame column "
   ]
  },
  {
   "cell_type": "code",
   "execution_count": 57,
   "metadata": {},
   "outputs": [
    {
     "name": "stderr",
     "output_type": "stream",
     "text": [
      "/anaconda3/lib/python3.6/site-packages/ipykernel_launcher.py:14: DeprecationWarning: Call to deprecated `__getitem__` (Method will be removed in 4.0.0, use self.wv.__getitem__() instead).\n",
      "  \n"
     ]
    }
   ],
   "source": [
    "df['w2v_vector'] = df['Lyrics'].apply(getWord2VecSentenceVector)"
   ]
  },
  {
   "cell_type": "code",
   "execution_count": 58,
   "metadata": {},
   "outputs": [
    {
     "name": "stderr",
     "output_type": "stream",
     "text": [
      "/anaconda3/lib/python3.6/site-packages/ipykernel_launcher.py:14: DeprecationWarning: Call to deprecated `__getitem__` (Method will be removed in 4.0.0, use self.wv.__getitem__() instead).\n",
      "  \n"
     ]
    }
   ],
   "source": [
    "from scipy.spatial.distance import cosine\n",
    "rick_roll = getWord2VecSentenceVector(df.iloc[song_id]['Lyrics'])\n",
    "df['w2v_similarity'] = df['w2v_vector'].apply(lambda x:cosine(x,rick_roll))"
   ]
  },
  {
   "cell_type": "code",
   "execution_count": 59,
   "metadata": {},
   "outputs": [],
   "source": [
    "import matplotlib.pyplot as plt"
   ]
  },
  {
   "cell_type": "code",
   "execution_count": 60,
   "metadata": {
    "scrolled": false
   },
   "outputs": [
    {
     "data": {
      "text/plain": [
       "Text(0.5,1,'Year vs Difference in Similarity between W2V and D2V')"
      ]
     },
     "execution_count": 60,
     "metadata": {},
     "output_type": "execute_result"
    },
    {
     "data": {
      "image/png": "[encoded data removed]",
      "text/plain": [
       "<matplotlib.figure.Figure at 0x110c1b9b0>"
      ]
     },
     "metadata": {},
     "output_type": "display_data"
    }
   ],
   "source": [
    "plt.figure(figsize=(15,5))\n",
    "plt.plot(df.groupby(\"Year\").mean().index,df.groupby(\"Year\").mean()['w2v_similarity']-df.groupby(\"Year\").mean()['d2v_similarity'])\n",
    "plt.title(\"Year vs Difference in Similarity between W2V and D2V\")"
   ]
  },
  {
   "cell_type": "code",
   "execution_count": 61,
   "metadata": {},
   "outputs": [
    {
     "data": {
      "text/plain": [
       "Text(0.5,0,'Year')"
      ]
     },
     "execution_count": 61,
     "metadata": {},
     "output_type": "execute_result"
    },
    {
     "data": {
      "image/png": "[encoded data removed]",
      "text/plain": [
       "<matplotlib.figure.Figure at 0x112158940>"
      ]
     },
     "metadata": {},
     "output_type": "display_data"
    }
   ],
   "source": [
    "plt.figure(figsize=(15,5))\n",
    "plt.plot(df.groupby(\"Year\").mean()['w2v_similarity'])\n",
    "plt.title(\"W2V Similarity with Rickroll vs Years\")\n",
    "plt.ylabel(\"Similarity\")\n",
    "plt.xlabel(\"Year\")"
   ]
  },
  {
   "cell_type": "code",
   "execution_count": 62,
   "metadata": {
    "scrolled": true
   },
   "outputs": [
    {
     "data": {
      "text/plain": [
       "Text(0.5,0,'Year')"
      ]
     },
     "execution_count": 62,
     "metadata": {},
     "output_type": "execute_result"
    },
    {
     "data": {
      "image/png": "[encoded data removed]",
      "text/plain": [
       "<matplotlib.figure.Figure at 0x11dfb4a58>"
      ]
     },
     "metadata": {},
     "output_type": "display_data"
    }
   ],
   "source": [
    "plt.figure(figsize=(15,5))\n",
    "plt.plot(df.groupby(\"Year\").mean()['d2v_similarity'])\n",
    "plt.title(\"D2V Similarity with Rickroll vs Years\")\n",
    "plt.ylabel(\"Similarity\")\n",
    "plt.xlabel(\"Year\")"
   ]
  },
  {
   "cell_type": "markdown",
   "metadata": {},
   "source": [
    "# Finding number of songs where Doc2Vec and Word2Vec share cosine similarity within 10% range"
   ]
  },
  {
   "cell_type": "code",
   "execution_count": 63,
   "metadata": {},
   "outputs": [],
   "source": [
    "num_similar_songs = len([x for x in (df['d2v_similarity']-df['w2v_similarity']).apply(lambda x:abs(x)) if x <= 0.1])"
   ]
  },
  {
   "cell_type": "code",
   "execution_count": 64,
   "metadata": {},
   "outputs": [],
   "source": [
    "total_num_songs = len(df)"
   ]
  },
  {
   "cell_type": "code",
   "execution_count": 65,
   "metadata": {},
   "outputs": [
    {
     "data": {
      "text/plain": [
       "0.26908942425479787"
      ]
     },
     "execution_count": 65,
     "metadata": {},
     "output_type": "execute_result"
    }
   ],
   "source": [
    "num_similar_songs/total_num_songs"
   ]
  },
  {
   "cell_type": "code",
   "execution_count": 66,
   "metadata": {},
   "outputs": [],
   "source": [
    "from annoy import AnnoyIndex"
   ]
  },
  {
   "cell_type": "code",
   "execution_count": 67,
   "metadata": {},
   "outputs": [],
   "source": [
    "w2v_cluster = AnnoyIndex(300,metric='angular')"
   ]
  },
  {
   "cell_type": "code",
   "execution_count": 68,
   "metadata": {},
   "outputs": [],
   "source": [
    "for i in range(len(df)):\n",
    "    row = df.iloc[i]\n",
    "    vector = row['w2v_vector']\n",
    "    w2v_cluster.add_item(i,vector)"
   ]
  },
  {
   "cell_type": "code",
   "execution_count": 69,
   "metadata": {
    "scrolled": true
   },
   "outputs": [
    {
     "data": {
      "text/plain": [
       "True"
      ]
     },
     "execution_count": 69,
     "metadata": {},
     "output_type": "execute_result"
    }
   ],
   "source": [
    "w2v_cluster.build(100)"
   ]
  },
  {
   "cell_type": "markdown",
   "metadata": {},
   "source": [
    "# showing top 10 most similar songs to {{song_name}} using Word2Vec"
   ]
  },
  {
   "cell_type": "code",
   "execution_count": 70,
   "metadata": {},
   "outputs": [
    {
     "name": "stdout",
     "output_type": "stream",
     "text": [
      "never gonna give you up\n",
      "\n",
      " ooh oohwere no strangers to love you know the rules and so do i a full commitments what im thinking of you wouldnt get this from any other guy i just wanna tell you how im feeling gotta make you understandnever gonna give you up never gonna let you down never gonna run around and desert you never gonna make you cry never gonna say goodbye never gonna tell a lie and hurt youweve known each other for so long your hearts been aching but youre too shy to say it inside we both know whats been going on we know the game and were gonna play it and if you ask me how im feeling dont tell me youre too blind to seenever gonna give you up never gonna let you down never gonna run around and desert you never gonna make you cry never gonna say goodbye never gonna tell a lie and hurt younever gonna give you up never gonna let you down never gonna run around and desert you never gonna make you cry never gonna say goodbye never gonna tell a lie and hurt youooh give you up ooh give you up ooh never gonna give never gonna give give you up ooh never gonna give never gonna give give you upweve know each other for so long your hearts been aching but youre too shy to say it inside we both know whats been going on we know the game and were gonna play iti just wanna tell you how im feeling gotta make you understandnever gonna give you up never gonna let you down never gonna run around and desert you never gonna make you cry never gonna say goodbye never gonna tell a lie and hurt younever gonna give you up never gonna let you down never gonna run around and desert you never gonna make you cry never gonna say goodbye never gonna tell a lie and hurt younever gonna give you up never gonna let you down never gonna run around and desert you never gonna make you cry never gonna say goodbye never gonna tell a lie and hurt you \n",
      "\n",
      "never give you up\n",
      "\n",
      " never gonna give you up no matter how you treat me never gonna give you up so dont you think of leavingirl you treat me bad and i know why yeah ive seen you runnin around with another guy and you think if you hurt me that ill go away made it up in my mind that im here to stayso tell him never gonna give you up whisper in his ear no matter how you treat me never gonna give you up you tell him that jerry said hell never let you go so dont you think of leavin hey dont you understand what youre doing to the mando you see these tears here in my eyes aint no use in me lyin cause i really cried you think youre gonna take me and put me on the shelf girl id rather die than see you with somebody elseso throw it out of your mind never gonna give you up ill never leave you no matter how you treat me though you grieve me and deceive me yeah never gonna give you up so dont you think of leavin hey dont you understand what youre doing to the manmy friends all say that im your fool and youre using me like a carpenter uses a tool and i know their intentions have all been good some of them would help me if they couldbut ill never gonna give you up never never never never let you go no matter how you treat me no matter what you say never gonna give you up so dont you think of leavin baby dont you understand that youre killing this mannever gonna give you up never gonna give you up no matter how you treat me no matter what you do to me baby now never gonna give you up so dont you think of leavin oh never leave me ill be always standing around the door never gonna give you up no matter how you treat me even though you say that honey you dont love me \n",
      "\n",
      "my lovin youre never gonna get it\n",
      "\n",
      " no youre never gonna get it never ever gonna get it no not this time no youre never gonna get it my love never ever gonna get itno youre never gonna get it never ever gonna get it no not this time no youre never gonna get it my love never ever gonna get iti remember how it used to be you never was this nice you cant fool me now you talkin like you made a change the more you talk the more things sound the same what makes you think you can just walk back into her life without a good fight oh i just sit back and watch you make a fool of yourself cuz youre just wasting your time ohno youre never gonna get it not this time never ever gonna get it my lovin no youre never gonna get it had your chance to make a change never ever gonna get itno youre never gonna get it not this time never ever gonna get it my lovin no youre never gonna get it had your chance to make a change never ever gonna get itnow you promise me the moon and stars save your breath you wont get very far gave you many chances to make change the only thing you changed was love to hate it doesnt matter what you do or what you say she doesnt love you no way maybe next time youll give your woman a little respect so you wont be hearing her say no wayno youre never gonna get it not this time never ever gonna get it my lovin no youre never gonna get it had your chance to make a change never ever gonna get itno youre never gonna get it not this time never ever gonna get it my lovin no youre never gonna get it had your chance to make a change never ever gonna get itno youre never gonna get it not this time never ever gonna get it my lovin no youre never gonna get it had your chance to make a change never ever gonna get itno youre never gonna get it not this time never ever gonna get it my lovin no youre never gonna get it had your chance to make a change never ever gonna get itdoesnt matter what you do or what you say she dont love you no way maybe next time youll give your woman a little respect so you wont be hearing her say no wayand now its time for a breakdownnever gonna get it never gonna get it never gonna get it never gonna get it never gonna get it never gonna get it never gonna get it whoawhoawhoawhoa never gonna get it never gonna get it never gonna get it never gonna get it never gonna get it never gonna get it never gonna get it never get itno youre never gonna get it sweet lovin never ever gonna get it sweet lovin no youre never gonna get it my lovin never ever gonna get it my lovin no youre never gonna get it sweet lovin never ever gonna get it my lovin no youre never gonna get it sweet lovin never ever gonna get it my lovin \n",
      "\n",
      "never gonna let you go\n",
      "\n",
      " i was as wrong as i could be to let you get away from me ill regret that move for as long as im livinbut now that ive come to see the light all i wanna do is make things right so just say the word and tell me that im forgivenyou and me were gonna be better than we were before loved you then but now i intend to open up and love you even more this time you can be sureim never gonna let you go im gonna hold you in my arms forever gonna try and make up for all the times i hurt you sogonna hold your body close to mine from this day on were gonna be together oh i swear this time im never gonna let you golookin back now it seems so clear i had it all when you were here oh you gave it all and i took it for grantedbut if theres some feeling left in you some flicker of love that still shines through lets talk it out lets talk about second chanceswait and see its gonna be sweeter than it was before i gave some then but now i intend to dedicate myself to giving more this time you can be sureim never gonna let you go im gonna hold you in my arms forever gonna try and make up for all the times i hurt you sogonna hold your body close to mine from this day on were gonna be together oh i swear this time im never gonna let you gooh so if youll just say you want me tooim never gonna let you go im gonna hold you in my arms forever gonna try and make up for all the times i hurt you sogonna hold your body close to mine from this day on were gonna be together oh i swear this time im never gonna let you gonever gonna let you go hold you in my arms forever gonna try and make up for all the times i hurt you sohold your body close to mine oh were gonna be together oh i swear this time im never gonna let you go \n",
      "\n",
      "like im gonna lose you\n",
      "\n",
      " i found myself dreaming in silver and gold like a scene from a movie that every broken heart knowswe were walking on moonlight and you pulled me close split second and you disappeared and then i was all alonei woke up in tears with you by my side a breath of relief and i realized no were not promised tomorrowso im gonna love you like im gonna lose you and im gonna hold you like im saying goodbye wherever were standing i wont take you for granted cause well never know when when well run out of timeso im gonna love you like im gonna lose you im gonna love you like im gonna lose youin the blink of an eye just a whisper of smoke you could lose everything the truth is you never knowso ill kiss you longer baby any chance that i get ill make the most of the minutes and love with no regretslets take our time to say what we want heres what we got before its all gone cause no were not promised tomorrowso im gonna love you like im gonna lose you im gonna hold you like im saying goodbye wherever were standing i wont take you for granted cause well never know when when well run out of timeso im gonna love you like im gonna lose you im gonna love you like im gonna lose youim gonna love you like im gonna lose you im gonna hold you like im saying goodbye wherever were standing i wont take you for granted cause well never know when when well run out of timeso im gonna love you like im gonna lose you im gonna love you like im gonna lose you \n",
      "\n",
      "how you gonna act like that\n",
      "\n",
      " it seems like just the other day that we hooked up i was drivin you was walkin and i swooped you up from that moment on i knew you were the one yeah i was single you was lonely and we fell in lovewe would sit and talk for hours about anything baby you hang up no you hang up on three hang up i bought your whip i paid your rent i gave you everything said youd always be my baby then you bounce how you gonna acthow you gonna up and leave me now how you gonna act like that how you gonna change it up we just finished makin up how you gonna act like thathow you gonna act like we dont be makin love you know we be tearin it up breakin stuff that ghetto love how you gonna trip how could you forget how you gonna act like thatgirl i never thought that lovin you would hurt i did everything a good man would to make it work girl you should have told me you had second thoughts like before i put the down on the house we boughtnow im thinkin you and me was a mistake but then it hits me and im missin all the love we made girl i know that weve been goin through some things yeah but the sun is always shinin even when it rains ohill be the one you kick it to ill be the one that misses you ill be the one to ease your pain ill be the one youll want to gain and youll be the one who cant forget youll be the one thats innocent youll be the one i cant hide youll be the one that makes me cry babyhow you gonna up and leave me now why you do how you gonna act like that why you gotta act like that how you gonna change it up whoa ho baby we just finished makin up how you gonna act like that but i need youhow you gonna act like we oh dont be makin love you know we be tearin it up breakin stuff that ghetto love how you gonna trip how could you forget how you gonna act like thatyou know im willin to do anything just to keep you in my heart keep you in my heart i messed around and gave up everything i thought wed never part yes i did baby i was a player and made the choice to give my heart to you and i gotta keep it that way ooh babyhow you gonna up and leave me now ooh baby how you gonna act like that why you gotta treat me this way how you gonna change it up why you treat me wrong we just finished makin up how you gonna act like that can me somebody tell me whywhy why like we dont be makin love hey you know we be tearin it up breakin stuff oh oh baby that ghetto love how you gonna trip all my friends became your friends how can you forget all my ends became your ends how you gonna act like thatkeepin love ghetto all i want is you keepin love ghetto all i need is you keepin love ghetto all i need is you keepin love ghetto all i need is you all i need is you babehow you gonna up and leave me now oh babe how you gonna act like that how you gonna act like that hey hey how you gonna change it up oh we just finished makin up why you actin so shady oh oh baby how you gonna act like that anything you want in me i got ya heyhow you gonna act like we dont be makin love you know we be tearin it up breakin stuff why you actin so shady that ghetto love how you gonna trip oh oh baby how can you forget how you gonna act like that \n",
      "\n",
      "black widow\n",
      "\n",
      " im gonna love you until you hate me and im gonna show you whats really crazy you shouldve known better then to mess with me harder im gonna love you im gonna love you gonna love you gonna love you like a black widow babythis twisted cat and mouse game always starts the same first were both down to play then somehow you go astray we went from nothing to something liking to loving it was us against the world now we just fucking its like i loved you so much and now i just hate you feeling stupid for all the time that i gave you i wanted all or nothing for us aint no place in between by me believing what you say that you never mean like itll last for ever but now forever aint as long if it wasnt for you i wouldnt be stuck singing this song you was different from my last but now you got a mirror but as it all plays out i see it couldnt be clearer now singyou used to be thirsty for me but now you wanna be set free this is the web the web that you weave so baby now rest in peace its all over with nowim gonna love you until you hate me and im gonna show you whats really crazy you shouldve known better then to mess with me harder im gonna love you im gonna love you gonna love you gonna love you like a black widow babyim gonna love you until it hurts just to get you im doing whatever works youd have never met nobody that will do you how i do ya that will bring you to your knees praise jesus hallelujah imma make you beg for it plead for it till you feel like you breath for it till you do any and everything for it i want you to fiend for it wake up and dream for it till its got you gasping for air and you leave for it til then you have a cat scan and you can check your mind and theres nothing but me on it now its me time believe that if its yours when you want it i wouldnt promise i need that till im everywhere that you be at i cant fall back go quick cause this here is fatal attraction so i take it all or i dont want shityou used to be thirsty for me but now you wanna be set free this is the web the web that you weave so baby now rest in peace its all over with nowim gonna love you until you hate me and im gonna show you whats really crazy you shouldve known better then to mess with me harder im gonna love you im gonna love you gonna love you gonna love you like a black widow baby \n",
      "\n",
      "whats it gonna be\n",
      "\n",
      " whats it gonna be is it gonna be you and me whats it gonna be is it gonna be you and me babewasnt it you who said wed be together always i think ive been misled it took a while to see but nowone of us has to go you just cant love two no tell mewhats it gonna be is it gonna be you and me whats it gonna be is it gonna be you and me babewhat makes you think that you could keep me hanging on a string if you cant make up your mind ill bow out gracefully yeahbut one of us has to go you cant love two no no nowhats it gonna be is it gonna be you and me whats it gonna be is it gonna be you and me babei wanna know whats it gonna be is it gonna be you and me whats it gonna be is it gonna be you and me babewhats it gonna be i hope you can see its gotta be you and me baby tell mewhats it gonna be is it gonna be you and me whats it gonna be is it gonna be you and mewhats it gonna be is it gonna be you and me whats it gonna be is it gonna be you and me babewhats it gonna be \n",
      "\n",
      "who will you run to\n",
      "\n",
      " youre not sure what you want to do with your life but you sure dont want me in it yeah youre sure the life youre living with me cant go on one single minute and theres a new one waiting outside this door and nows its time to begin ityou found a new world and you want to taste it but that world can turn cold and you better face itwho will you run to when it all falls down whos gonna pick your world up off from the ground whos gonna take away the tears you cry whos gonna love you baby as good as iyou dont know what its like to live on your own youve always had me there beside you you think its easy finding someone out there whos gonna care as much as i do whats gonna happen baby when you find out theres no one there to cry toyou can tell the whole world how youre gonna make it you can follow your heart what you do when someone breaks itwho will you run to when it all falls down whos gonna pick your world up off from the ground whos gonna take away the tears you cry whos gonna love you baby as good as iyou found a new world and you want to taste it but that world can turn cold and you better face itwho will you run to when it all falls down whos gonna pick your world up off from the ground whos gonna take away the tears you cry whos gonna love you baby as good as iwho will you run to when it all falls down whos gonna pick your world up off from the ground whos gonna take away the tears you cry whos gonna love you baby as good as i \n",
      "\n",
      "its gonna be me\n",
      "\n",
      "lance its gonnabeme justin oooh yeah justin you mightve been hurt babe that aint no lie youve seen them all come and go oh i remember you told me that it made you believe in no man no cry maybe thats why every little thing i do never seems enough for you you dont wanna lose it again but im not like them baby when you finally get to love somebody guess what its gonna be me jc youve got no choice babe but to move on and you know there aint no time to waste youre just too blind too blind to see but in the end ya know its gonna be me you cant deny so just tell me why every little thing i do never seems enough for you you dont wanna lose it again but im not like them baby when you finally get to love somebody somebody guess what guess what its gonna be me lance its gonna be me justin oh yeahhhhh justin there comes a day when ill be the one youll see its gonnagonnagonnagonnagonna justin its gonna be me all that i do is not enough for you dont wanna lose it but im not like that when finally finally you get to love guess what guess what every little thing i do never seems enough for you for you babe you dont wanna lose it again dont wanna lose it but im not like them baby when you finally get to love somebody love guess what guess what its gonna be me every little thing i do ohh never seems enough for you you dont wanna lose it again dont wanna lose it but im not like them baby when you finally baby when you finally get to love somebody guess what guess what justin its gonna be me\n",
      "\n"
     ]
    }
   ],
   "source": [
    "for i in w2v_cluster.get_nns_by_vector(rick_roll,10):\n",
    "    print(df.iloc[i]['Song'])\n",
    "    print()\n",
    "    print(df.iloc[i]['Lyrics'])\n",
    "    print()"
   ]
  },
  {
   "cell_type": "markdown",
   "metadata": {},
   "source": [
    "# showing top 10 most similar songs to {{song_name}} using Doc2Vec"
   ]
  },
  {
   "cell_type": "code",
   "execution_count": 71,
   "metadata": {},
   "outputs": [
    {
     "name": "stdout",
     "output_type": "stream",
     "text": [
      "please dont go\n",
      "\n",
      "we love you yeah lee we love you so we want you to know that were going to miss your love the minute you walk out that door so please dont go dont go dont go to cleeve please dont go dont go were begging you dont leave if you leave at least in our lifetime weve had one dream come true we were blessed to be loved by someone as wonderful as you so please dont go dont go dont go to cleeve please dont go dont go were begging you dont leave hey hey hey yeah lee we love you so we want you to know that were going to miss your love the minute you walk out that door so please dont go dont go dont go away hey hey hey i need your love were down on our knees beggin please please please dont go dont you hear me baby please dont go dont leave me now oh no no no no please dont go we want you to know that we we we love you so dont leave me baby please dont go\n",
      "\n",
      "betcha by golly wow\n",
      "\n",
      " theres a spark of magic in your eyes candyland appears each time you smile never thought that fairy tales came true but they come true when im near you youre a genie in disguise full of wonder and surpriseand betcha by golly wow youre the one that ive been waiting for forever and ever will my love for you keep growin strong keep growin strongif i could id catch a falling star to shine on you so ill know where you are order rainbows in your favorite shade to show i love you thinking of you write your name across the sky anything you ask ill try causebetcha by golly wow youre the one that ive been waiting for forever and ever will my love for you keep growin strong keep growin strongbetcha by golly wow youre the one that ive been waiting for forever and ever will my love for you keep growin strong keep growin strongbetcha by golly wowyoure the one that ive been waiting for forever and ever will my love for you \n",
      "\n",
      "on and on\n",
      "\n",
      "bet your life ill be yeah a better woman you see all because you proved out to be a better man for me build me up with so much affection   you build me up with so much affection and you make me realize my needs   you make me realize my needs you seem to move in the right direction   seem to move in the right direction makin love makin love all we please   makin love makin love oh here we go on and on on and on on and on here we go on and on on and on on and on on and on on and on we gotta go on and on keep on movin on and on on and on on and on how can i how can i show you how i wanna now prove all my love but im so afraid to take a part dont break my heart the way so many lovers do so good i feel cause the loves real having tons of fun since the love begun huggin and a lovin on and on gettin with the kissin on and on chills i feel whenever youre near stickin like glue i keep a lovin you on and on on and on keep on movin on and on we gotta go keep on movin keep on groovin on and on on and on hey hey hey on and on on and on we gotta go how can i work out this sweet relation let us deal with love keepin our hearts together with no temptation keepin us lovin keepin us lovin going on and on on and on on and on on and on on and on we gotta go on and on keep on movin on and on keep on groovin on and on on and on on and on we gone on and on i wanna know i know you feel like i feel thats why weve got a love thats real so lets keep on groovin the way we do lets just keep on movin if were gonna make it through huggin and a lovin huggin and a lovin gettin with the kissin gettin with the kissin gettin with the kissin gettin with the kissin huggin and a lovin huggin and a lovin huggin and a lovin gettin with the kissin yeah gettin with the kissin huggin and a lovin tears i fear whenever youre near stickin like glue i keep a lovin you keep a lovin you on and on on and on keep on groovin on and on we gotta move we gotta groove keep on movin on and on on and on we gotta move on and on on and on keep on groovin on and on hey hey hey hey on and on on and on keep on movin keep on groovin on and on on and on on and on on and on on and on\n",
      "\n",
      "winning\n",
      "\n",
      " one day i was on the ground when i needed a hand then it couldnt be found i was so far down that i couldnt get up you know and one day i was one of lifes losers even my friends were my accusers in my head i lost before i beguni had a dream but it turned to dust and what i thought was love that must have been lust i was living in style when the walls fell in and when i played my hand i looked like a joker turn around fate must have woke her cause lady luck she was waiting outside the doorim winning im winning im winning im winning im winning and i dont intend losing againtoo bad it belonged to me it was the wrong time and not meant to be it took a long time and im new born now i can see the day that i bleed for if its agreed that theres a need to play the game and to win againim winning im winning im winning im winning im winning and i dont intend losing againi had a dream but it turned to dust and what i thought was love that must have been lust i was living in style when the walls fell in and when i played my hand i looked like a joker turn around fate must have woke her cause lady luck she was waiting outside the doorim winning im winning im winning im winning im winning and i dont intend losing again \n",
      "\n",
      "break my stride\n",
      "\n",
      "last night i had the strangest dream i sailed away to china in a little row boat to find ya and you said you had to get your laundry cleaned didnt want no one to hold you what does that mean and you said aint nothin gonna to break my stride nobodys gonna slow me down oh no i got to keep on movin aint nothin gonna break my stride im running and i wont touch ground oh no i got to keep on movin youre on the road and now you pray it lasts the road behind was rocky but now youre feeling cocky you look at me and you see your past is that the reason why youre runnin so fast and she said aint nothin gonna break my stride nobodys gonna slow me down oh no i got to keep on moving aint nothin gonna break my stride im running and i wont touch ground oh no i got to keep on moving never let another girl like you work me over never let another girl like you drag me under if i meet another girl like you i will tell her never want another girl like you have to say ooh aint nothin gonna break my stride nobodys gonna slow me down oh no oh no i got to keep on moving aint nothin gonna break my stride im running and i wont touch the ground oh no i got to keep on movin aint nothin gonna break my stride nobodys gonna slow me down oh no oh no i got to keep on moving aint nothin gonna break my stride im running and i wont touch the ground oh no i got to keep on movin aint nothin gonna break my stride nobodys gonna slow me down oh no i got to keep on moving aint nothin gonna break my stride im running and i wont touch the ground oh no i got to keep on movin aint nothin gonna break my stride nobodys gonna slow me down oh no oh no i got to keep on moving\n",
      "\n",
      "nothings gonna change my love for you\n",
      "\n",
      " if i had to live my life without you near me the days would all be empty the nights would seem so long with you i see forever oh so clearly i might have been in love before but it never felt this strong our dreams are young and we both know theyll take us where we want to go hold me now touch me now i dont want to live without younothings gonna change my love for you you ought to know by now how much i love you one thing you can be sure of ill never ask for more than your lovenothings gonna change my love for you you ought to know by now how much i love you the world may change my whole life through but nothings gonna change my love for youif the road ahead is not so easy our love will lead the way for us like a guiding star ill be there for you if you should need me you dont have to change a thing i love you just the way you are so come with me and share the view ill help you see forever too hold me now touch me now i dont want to live without younothings gonna change my love for you you ought to know by now how much i love you one thing you can be sure of ill never ask for more than your lovenothings gonna change my love for you you ought to know by now how much i love you the world may change my whole life through but nothings gonna change my love for younothings gonna change my love for you you ought to know by now how much i love you one thing you can be sure of ill never ask for more than your love my lovenothings gonna change my love for you you ought to know by now how much i love you one thing you can be sure of ill never ask for more than your lovenothings gonna change my love for you you ought to know by now how much i love you the world may change my whole life through but nothings gonna change my love for younothings gonna change my love for you you ought to know by now how much i love you one thing you can be sure of sure of ill never ask for more than your love my love \n",
      "\n",
      "wonderful world\n",
      "\n",
      " i dont know much about my history now dont know much about biology dont know much about the science book now dont know much about the french i tookall i do know is i love you now and i wonder if you love me too ooh what a wonderful world this could beooh i dont know much about geography now dont know much about trigonometry now dont know much about the algebra dont know what a slide rule is forbut i do know one and one is two now and i wonder if you love me too ooh what a wonderful world this could bei dont claim to be an a student but thats what im trying to be but by being an a student baby look like i could win your love for medont know much about the history now oh now dont know much about biology i dont know much about the science book now dont know much about the good french i took ohall i do know is i love you now oh now and i wonder if you love me too ooh what a wonderful world this could begood lord i dont claim to be an a student but thats what im trying to be oh now but if i have to be an a student baby im gonna win your love for mei dont know much about geography now oh now dont know much about trigonometry dont know much about the algebra now dont know what a good slide rule is forbut i do know one and one is two now oh now and i wonder if you love me too ooh what a wonderful world this could beoh my my good lord ive been trying ive been trying ive been trying oh lord to understand the thing that ive been looking for \n",
      "\n",
      "everybody have fun tonight\n",
      "\n",
      " ill drive a million miles to be with you tonight so if youre feeling low turn up your radio the words we use are strong they make reality but now the musics on oh baby dance with me yeahrip it up move down rip it up move it down to the ground rip it up cool down rip it up and get the feeling not the wordeverybody have fun tonight everybody have fun tonight everybody wang chung tonight everybody have fun tonight everybody wang chung tonight everybody have fundeep in the world tonight our hearts beat safe and sound ill hold you so close just let yourself go downrip it up move down rip it up move it down to the ground rip it up cool down rip it up get out whats inside of youeverybody have fun tonight everybody have fun tonight everybody wang chung tonight everybody have fun tonight everybody have fun tonight everybody wang chung tonight everybody have funon the edge of oblivion all the world is babylon and all the love and evryone a ship of fools sailing on everybody everybody have fun tonight everybody everybody have fun tonightacross the nation around the world everybody have fun tonight a celebration so spread the wordeverybody have fun tonight everybody have fun tonight everybody wang chung tonight everybody have fun tonight everybody wang chung tonight everybody have fun tonight everybody have funeverybody everyone \n",
      "\n",
      "building a mystery\n",
      "\n",
      " you come out at night thats when the energy comes and the dark sides light and the vampires roam you strut your rasta wear and your suicide poem and a cross from a faith that died before jesus came youre building a mysteryyou live in a church where you sleep with voodoo dolls and you wont give up the search for the ghosts in the halls you wear sandals in the snow and a smile that wont wash away can you look out the window without your shadow getting in the wayyoure so beautiful with an edge and charm but so careful when im in your armscause youre working building a mystery holding on and holding it in yeah youre working building a mystery and choosing so carefullyyou woke up screaming aloud a prayer from your secret god you feed off our fears and hold back your tears oh give us a tantrum and a know it all grin just when we need one when the evenings thinyoure a beautiful a beautiful fucked up man youre setting up your razor wire shrinecause youre working building a mystery holding on and holding it in yeah youre working building a mystery and choosing so carefullyoh youre working building a mystery holding on and holding it in yeah youre working building a mystery and choosing so carefully yeah youre working building a mystery holding on and holding it in oh yeah youre working building a mystery and choosing so carefullyyoure building a mystery \n",
      "\n",
      "love is here and now youre gone\n",
      "\n",
      " love is here and oh my darling now youre gone love is here and oh my darling now youre gone you persuaded me to love you and i did but instead of tenderness i found heartache instead into your arms i fell so unaware of the loneliness that was waiting there you closed the door of your heart and turned the key locked your love away from melove is here and oh my darling now youre gone you made me love you and oh my darling now youre gone you said loving you would make life beautiful with each passing day but as soon as love came into my heart you turned and you walked just one way you stripped me of my dreams you gave me faith then took my hope look at me nowlook at me see what loving you has done to me look at my face see how crying has left its trace after you made me all your own and you left me all alone you made your words sound so sweet knowing that your love i couldnt keep my heart cries out for your touch but youre not there and the lonely cry fades in the airlove is here and oh my darling now youre gone love is here and oh my darling now youre gone you made me love you oh my darling now youre gone you made me love you oh my darling now youre gone \n",
      "\n"
     ]
    }
   ],
   "source": [
    "for i,d in d2v.docvecs.most_similar(str(song_id),topn=10):\n",
    "    print(df.iloc[int(i)]['Song'])\n",
    "    print()\n",
    "    print(df.iloc[int(i)]['Lyrics'])\n",
    "    print()"
   ]
  },
  {
   "cell_type": "markdown",
   "metadata": {},
   "source": [
    "# Use chi-square test to show that the difference between Doc2Vec and Word2Vec are not the same"
   ]
  },
  {
   "cell_type": "code",
   "execution_count": 72,
   "metadata": {},
   "outputs": [],
   "source": [
    "from scipy.stats import chisquare"
   ]
  },
  {
   "cell_type": "code",
   "execution_count": 73,
   "metadata": {},
   "outputs": [],
   "source": [
    "df2 = df.dropna()"
   ]
  },
  {
   "cell_type": "code",
   "execution_count": 74,
   "metadata": {},
   "outputs": [
    {
     "data": {
      "text/plain": [
       "Power_divergenceResult(statistic=1139.3994267306816, pvalue=nan)"
      ]
     },
     "execution_count": 74,
     "metadata": {},
     "output_type": "execute_result"
    }
   ],
   "source": [
    "chisquare(f_obs=df2['d2v_similarity'],f_exp=df2['w2v_similarity'],ddof=len(df2)-1)"
   ]
  },
  {
   "cell_type": "code",
   "execution_count": 75,
   "metadata": {},
   "outputs": [
    {
     "data": {
      "text/plain": [
       "4897"
      ]
     },
     "execution_count": 75,
     "metadata": {},
     "output_type": "execute_result"
    }
   ],
   "source": [
    "len(df2)"
   ]
  },
  {
   "cell_type": "code",
   "execution_count": 76,
   "metadata": {},
   "outputs": [
    {
     "name": "stderr",
     "output_type": "stream",
     "text": [
      "/anaconda3/lib/python3.6/site-packages/ipykernel_launcher.py:1: SettingWithCopyWarning: \n",
      "A value is trying to be set on a copy of a slice from a DataFrame.\n",
      "Try using .loc[row_indexer,col_indexer] = value instead\n",
      "\n",
      "See the caveats in the documentation: http://pandas.pydata.org/pandas-docs/stable/indexing.html#indexing-view-versus-copy\n",
      "  \"\"\"Entry point for launching an IPython kernel.\n",
      "/anaconda3/lib/python3.6/site-packages/ipykernel_launcher.py:2: SettingWithCopyWarning: \n",
      "A value is trying to be set on a copy of a slice from a DataFrame.\n",
      "Try using .loc[row_indexer,col_indexer] = value instead\n",
      "\n",
      "See the caveats in the documentation: http://pandas.pydata.org/pandas-docs/stable/indexing.html#indexing-view-versus-copy\n",
      "  \n"
     ]
    }
   ],
   "source": [
    "df2['d2v_similarity'] = df2['d2v_similarity'].apply(lambda x:round(x,1))\n",
    "df2['w2v_similarity'] = df2['w2v_similarity'].apply(lambda x:round(x,1))"
   ]
  },
  {
   "cell_type": "markdown",
   "metadata": {},
   "source": [
    "# Doc2Vec Similarity Frequency Distribution"
   ]
  },
  {
   "cell_type": "code",
   "execution_count": 77,
   "metadata": {
    "scrolled": true
   },
   "outputs": [
    {
     "data": {
      "text/plain": [
       "Text(0,0.5,'Frequency')"
      ]
     },
     "execution_count": 77,
     "metadata": {},
     "output_type": "execute_result"
    },
    {
     "data": {
      "image/png": "[encoded data removed]",
      "text/plain": [
       "<matplotlib.figure.Figure at 0x11de08630>"
      ]
     },
     "metadata": {},
     "output_type": "display_data"
    }
   ],
   "source": [
    "plt.figure(figsize=(15,5))\n",
    "plt.plot(df2.groupby('d2v_similarity').count()['Rank'])\n",
    "plt.title(\"Doc2Vec Similarity Frequency Distribution\")\n",
    "plt.xlabel(\"Similarity\")\n",
    "plt.ylabel(\"Frequency\")"
   ]
  },
  {
   "cell_type": "markdown",
   "metadata": {},
   "source": [
    "# Word2Vec Similarity Frequency Distribution"
   ]
  },
  {
   "cell_type": "code",
   "execution_count": 78,
   "metadata": {
    "scrolled": true
   },
   "outputs": [
    {
     "data": {
      "text/plain": [
       "Text(0,0.5,'Frequency')"
      ]
     },
     "execution_count": 78,
     "metadata": {},
     "output_type": "execute_result"
    },
    {
     "data": {
      "image/png": "[encoded data removed]",
      "text/plain": [
       "<matplotlib.figure.Figure at 0x11dbf4be0>"
      ]
     },
     "metadata": {},
     "output_type": "display_data"
    }
   ],
   "source": [
    "plt.figure(figsize=(15,5))\n",
    "plt.plot(df2.groupby('w2v_similarity').count()['Rank'])\n",
    "plt.title(\"Word2Vec Similarity Frequency Distribution\")\n",
    "plt.xlabel(\"Similarity\")\n",
    "plt.ylabel(\"Frequency\")"
   ]
  },
  {
   "cell_type": "markdown",
   "metadata": {},
   "source": [
    "# Word2Vec Mean Median Mode Std.deviation"
   ]
  },
  {
   "cell_type": "code",
   "execution_count": 79,
   "metadata": {
    "scrolled": true
   },
   "outputs": [
    {
     "name": "stdout",
     "output_type": "stream",
     "text": [
      "0.32317745558505384\n",
      "0.3\n",
      "0    0.3\n",
      "dtype: float64\n",
      "0.14686216832496626\n"
     ]
    }
   ],
   "source": [
    "print(df2['w2v_similarity'].mean())\n",
    "print(df2['w2v_similarity'].median())\n",
    "print(df2['w2v_similarity'].mode())\n",
    "print(df2['w2v_similarity'].std())"
   ]
  },
  {
   "cell_type": "markdown",
   "metadata": {},
   "source": [
    "# Doc2Vec Mean Median Mode Std.deviation"
   ]
  },
  {
   "cell_type": "code",
   "execution_count": 80,
   "metadata": {},
   "outputs": [
    {
     "name": "stdout",
     "output_type": "stream",
     "text": [
      "0.3620379824382277\n",
      "0.4\n",
      "0    0.4\n",
      "dtype: float64\n",
      "0.20103534148094307\n"
     ]
    }
   ],
   "source": [
    "print(df2['d2v_similarity'].mean())\n",
    "print(df2['d2v_similarity'].median())\n",
    "print(df2['d2v_similarity'].mode())\n",
    "print(df2['d2v_similarity'].std())"
   ]
  },
  {
   "cell_type": "code",
   "execution_count": 81,
   "metadata": {},
   "outputs": [],
   "source": [
    "from scipy.stats.mstats import normaltest"
   ]
  },
  {
   "cell_type": "markdown",
   "metadata": {},
   "source": [
    "## Normality Test rejects null hypothesis that W2V is normally distributed"
   ]
  },
  {
   "cell_type": "code",
   "execution_count": 82,
   "metadata": {},
   "outputs": [
    {
     "data": {
      "text/plain": [
       "NormaltestResult(statistic=2350.0008394744573, pvalue=0.0)"
      ]
     },
     "execution_count": 82,
     "metadata": {},
     "output_type": "execute_result"
    }
   ],
   "source": [
    "normaltest(df2['w2v_similarity'])"
   ]
  },
  {
   "cell_type": "markdown",
   "metadata": {},
   "source": [
    "## Normality Test rejects null hypothesis that D2V is normally distributed"
   ]
  },
  {
   "cell_type": "code",
   "execution_count": 83,
   "metadata": {},
   "outputs": [
    {
     "data": {
      "text/plain": [
       "NormaltestResult(statistic=194.9220214254675, pvalue=4.712168879508571e-43)"
      ]
     },
     "execution_count": 83,
     "metadata": {},
     "output_type": "execute_result"
    }
   ],
   "source": [
    "normaltest(df2['d2v_similarity'])"
   ]
  },
  {
   "cell_type": "markdown",
   "metadata": {},
   "source": [
    "# Finding lyrics with greatest difference in similarity results produced by Doc2Vec and Word2Vec"
   ]
  },
  {
   "cell_type": "code",
   "execution_count": 84,
   "metadata": {},
   "outputs": [],
   "source": [
    "df3 = df\n",
    "df3['x'] = abs(df['d2v_similarity']-df['w2v_similarity'])"
   ]
  },
  {
   "cell_type": "code",
   "execution_count": 85,
   "metadata": {},
   "outputs": [
    {
     "data": {
      "text/html": [
       "<div>\n",
       "<style scoped>\n",
       "    .dataframe tbody tr th:only-of-type {\n",
       "        vertical-align: middle;\n",
       "    }\n",
       "\n",
       "    .dataframe tbody tr th {\n",
       "        vertical-align: top;\n",
       "    }\n",
       "\n",
       "    .dataframe thead th {\n",
       "        text-align: right;\n",
       "    }\n",
       "</style>\n",
       "<table border=\"1\" class=\"dataframe\">\n",
       "  <thead>\n",
       "    <tr style=\"text-align: right;\">\n",
       "      <th></th>\n",
       "      <th>Rank</th>\n",
       "      <th>Song</th>\n",
       "      <th>Artist</th>\n",
       "      <th>Year</th>\n",
       "      <th>Lyrics</th>\n",
       "      <th>Source</th>\n",
       "      <th>d2v_similarity</th>\n",
       "      <th>w2v_vector</th>\n",
       "      <th>w2v_similarity</th>\n",
       "      <th>x</th>\n",
       "    </tr>\n",
       "  </thead>\n",
       "  <tbody>\n",
       "    <tr>\n",
       "      <th>3044</th>\n",
       "      <td>98</td>\n",
       "      <td>macarena</td>\n",
       "      <td>los del r'io</td>\n",
       "      <td>1996</td>\n",
       "      <td>dale a tu cuerpo alegria macarena que tu cuer...</td>\n",
       "      <td>1.0</td>\n",
       "      <td>-0.226525</td>\n",
       "      <td>[0.05006559, -0.029602192, 0.060282513, 0.1008...</td>\n",
       "      <td>1.313863</td>\n",
       "      <td>1.540388</td>\n",
       "    </tr>\n",
       "    <tr>\n",
       "      <th>3122</th>\n",
       "      <td>82</td>\n",
       "      <td>macarena bayside boys mix</td>\n",
       "      <td>los del r'io</td>\n",
       "      <td>1997</td>\n",
       "      <td>dale a tu cuerpo alegria macarena que tu cuer...</td>\n",
       "      <td>1.0</td>\n",
       "      <td>-0.213047</td>\n",
       "      <td>[0.05006559, -0.029602192, 0.060282513, 0.1008...</td>\n",
       "      <td>1.313863</td>\n",
       "      <td>1.526910</td>\n",
       "    </tr>\n",
       "    <tr>\n",
       "      <th>4894</th>\n",
       "      <td>96</td>\n",
       "      <td>el perdon</td>\n",
       "      <td>nicky jam and enrique iglesias</td>\n",
       "      <td>2015</td>\n",
       "      <td>enrique iglesias dime si es verdad me dijeron ...</td>\n",
       "      <td>3.0</td>\n",
       "      <td>-0.339281</td>\n",
       "      <td>[0.014169728, 0.02669766, 0.09406358, 0.044341...</td>\n",
       "      <td>1.153610</td>\n",
       "      <td>1.492892</td>\n",
       "    </tr>\n",
       "    <tr>\n",
       "      <th>2957</th>\n",
       "      <td>1</td>\n",
       "      <td>macarena bayside boys mix</td>\n",
       "      <td>los del r'io</td>\n",
       "      <td>1996</td>\n",
       "      <td>dale a tu cuerpo alegria macarena que tu cuer...</td>\n",
       "      <td>1.0</td>\n",
       "      <td>-0.152460</td>\n",
       "      <td>[0.05006559, -0.029602192, 0.060282513, 0.1008...</td>\n",
       "      <td>1.313863</td>\n",
       "      <td>1.466323</td>\n",
       "    </tr>\n",
       "    <tr>\n",
       "      <th>3882</th>\n",
       "      <td>60</td>\n",
       "      <td>la tortura</td>\n",
       "      <td>shakira featuring alejandro sanz</td>\n",
       "      <td>2005</td>\n",
       "      <td>ay padrita mÌ_a guÌÁrdate la poesÌ_a guÌÁrdat...</td>\n",
       "      <td>1.0</td>\n",
       "      <td>-0.126720</td>\n",
       "      <td>[0.034625478, 0.0006463096, 0.10063952, 0.0806...</td>\n",
       "      <td>1.209981</td>\n",
       "      <td>1.336701</td>\n",
       "    </tr>\n",
       "    <tr>\n",
       "      <th>4738</th>\n",
       "      <td>38</td>\n",
       "      <td>bailando</td>\n",
       "      <td>enrique iglesias featuring descemer bueno and ...</td>\n",
       "      <td>2014</td>\n",
       "      <td>yo te miro se me corta la respiraciÌ_n cuanto...</td>\n",
       "      <td>1.0</td>\n",
       "      <td>-0.093657</td>\n",
       "      <td>[0.018985564, 0.014525034, 0.09592241, 0.08807...</td>\n",
       "      <td>1.101837</td>\n",
       "      <td>1.195494</td>\n",
       "    </tr>\n",
       "    <tr>\n",
       "      <th>654</th>\n",
       "      <td>100</td>\n",
       "      <td>somos novios its impossible</td>\n",
       "      <td>perry como</td>\n",
       "      <td>1971</td>\n",
       "      <td>feat christina aguileraandrea somos novios pu...</td>\n",
       "      <td>1.0</td>\n",
       "      <td>0.108871</td>\n",
       "      <td>[0.039292477, -0.04510923, 0.07628422, 0.12364...</td>\n",
       "      <td>1.261086</td>\n",
       "      <td>1.152215</td>\n",
       "    </tr>\n",
       "    <tr>\n",
       "      <th>4548</th>\n",
       "      <td>45</td>\n",
       "      <td>rack city</td>\n",
       "      <td>tyga</td>\n",
       "      <td>2012</td>\n",
       "      <td>rack rack city bitch rack rack rack city bitc...</td>\n",
       "      <td>1.0</td>\n",
       "      <td>0.061057</td>\n",
       "      <td>[0.068014614, -0.016297542, 0.023352684, 0.028...</td>\n",
       "      <td>1.152531</td>\n",
       "      <td>1.091473</td>\n",
       "    </tr>\n",
       "    <tr>\n",
       "      <th>2085</th>\n",
       "      <td>11</td>\n",
       "      <td>la bamba</td>\n",
       "      <td>los lobos</td>\n",
       "      <td>1987</td>\n",
       "      <td>para bailar la bamba para bailar la bamba se ...</td>\n",
       "      <td>1.0</td>\n",
       "      <td>0.211537</td>\n",
       "      <td>[0.022328548, -0.0060041402, 0.079190716, 0.07...</td>\n",
       "      <td>1.280245</td>\n",
       "      <td>1.068709</td>\n",
       "    </tr>\n",
       "    <tr>\n",
       "      <th>549</th>\n",
       "      <td>82</td>\n",
       "      <td>the bells</td>\n",
       "      <td>the originals</td>\n",
       "      <td>1970</td>\n",
       "      <td></td>\n",
       "      <td>1.0</td>\n",
       "      <td>-0.114770</td>\n",
       "      <td>[0.051968478, -0.09953078, 0.011015526, 0.0935...</td>\n",
       "      <td>0.933008</td>\n",
       "      <td>1.047778</td>\n",
       "    </tr>\n",
       "  </tbody>\n",
       "</table>\n",
       "</div>"
      ],
      "text/plain": [
       "      Rank                         Song  \\\n",
       "3044    98                     macarena   \n",
       "3122    82    macarena bayside boys mix   \n",
       "4894    96                    el perdon   \n",
       "2957     1    macarena bayside boys mix   \n",
       "3882    60                   la tortura   \n",
       "4738    38                     bailando   \n",
       "654    100  somos novios its impossible   \n",
       "4548    45                    rack city   \n",
       "2085    11                     la bamba   \n",
       "549     82                    the bells   \n",
       "\n",
       "                                                 Artist  Year  \\\n",
       "3044                                       los del r'io  1996   \n",
       "3122                                       los del r'io  1997   \n",
       "4894                     nicky jam and enrique iglesias  2015   \n",
       "2957                                       los del r'io  1996   \n",
       "3882                   shakira featuring alejandro sanz  2005   \n",
       "4738  enrique iglesias featuring descemer bueno and ...  2014   \n",
       "654                                          perry como  1971   \n",
       "4548                                               tyga  2012   \n",
       "2085                                          los lobos  1987   \n",
       "549                                       the originals  1970   \n",
       "\n",
       "                                                 Lyrics  Source  \\\n",
       "3044   dale a tu cuerpo alegria macarena que tu cuer...     1.0   \n",
       "3122   dale a tu cuerpo alegria macarena que tu cuer...     1.0   \n",
       "4894  enrique iglesias dime si es verdad me dijeron ...     3.0   \n",
       "2957   dale a tu cuerpo alegria macarena que tu cuer...     1.0   \n",
       "3882   ay padrita mÌ_a guÌÁrdate la poesÌ_a guÌÁrdat...     1.0   \n",
       "4738   yo te miro se me corta la respiraciÌ_n cuanto...     1.0   \n",
       "654    feat christina aguileraandrea somos novios pu...     1.0   \n",
       "4548   rack rack city bitch rack rack rack city bitc...     1.0   \n",
       "2085   para bailar la bamba para bailar la bamba se ...     1.0   \n",
       "549                                                         1.0   \n",
       "\n",
       "      d2v_similarity                                         w2v_vector  \\\n",
       "3044       -0.226525  [0.05006559, -0.029602192, 0.060282513, 0.1008...   \n",
       "3122       -0.213047  [0.05006559, -0.029602192, 0.060282513, 0.1008...   \n",
       "4894       -0.339281  [0.014169728, 0.02669766, 0.09406358, 0.044341...   \n",
       "2957       -0.152460  [0.05006559, -0.029602192, 0.060282513, 0.1008...   \n",
       "3882       -0.126720  [0.034625478, 0.0006463096, 0.10063952, 0.0806...   \n",
       "4738       -0.093657  [0.018985564, 0.014525034, 0.09592241, 0.08807...   \n",
       "654         0.108871  [0.039292477, -0.04510923, 0.07628422, 0.12364...   \n",
       "4548        0.061057  [0.068014614, -0.016297542, 0.023352684, 0.028...   \n",
       "2085        0.211537  [0.022328548, -0.0060041402, 0.079190716, 0.07...   \n",
       "549        -0.114770  [0.051968478, -0.09953078, 0.011015526, 0.0935...   \n",
       "\n",
       "      w2v_similarity         x  \n",
       "3044        1.313863  1.540388  \n",
       "3122        1.313863  1.526910  \n",
       "4894        1.153610  1.492892  \n",
       "2957        1.313863  1.466323  \n",
       "3882        1.209981  1.336701  \n",
       "4738        1.101837  1.195494  \n",
       "654         1.261086  1.152215  \n",
       "4548        1.152531  1.091473  \n",
       "2085        1.280245  1.068709  \n",
       "549         0.933008  1.047778  "
      ]
     },
     "execution_count": 85,
     "metadata": {},
     "output_type": "execute_result"
    }
   ],
   "source": [
    "df3.nlargest(10,'x')"
   ]
  },
  {
   "cell_type": "code",
   "execution_count": 86,
   "metadata": {},
   "outputs": [
    {
     "name": "stdout",
     "output_type": "stream",
     "text": [
      " ooh oohwere no strangers to love you know the rules and so do i a full commitments what im thinking of you wouldnt get this from any other guy i just wanna tell you how im feeling gotta make you unde ...\n",
      "------------------------------------------------------------\n",
      "enrique iglesias dime si es verdad me dijeron que te estas casando tÌ¼ no sabes lo estoy sufriendo esto te lo tengo que decir nicky jam cuÌ©ntame tu despedida para mi fue dura serÌÁ que te llevo a la  ...\n",
      "\n",
      " dale a tu cuerpo alegria macarena que tu cuerpo es pa darle alegria y cosa buena dale a tu cuerpo alegria macarena hey macarenadale a tu cuerpo alegria macarena que tu cuerpo es pa darle alegria y co ...\n",
      "\n",
      " rack rack city bitch rack rack rack city bitch rack rack rack rack city bitch mustard on the beat horack city bitch rack rack city bitch ten ten ten twenty on yo titties bitch 100 deep vip no guest l ...\n",
      "\n",
      " ay padrita mÌ_a guÌÁrdate la poesÌ_a guÌÁrdate la alegrÌ_a pa tidame dame dÌÁmelo ohno pido que todos los dÌ_as sean de sol no pido que todos los viernes sean de fiesta tampoco te pido que vuelvas ro ...\n",
      "\n",
      " para bailar la bamba para bailar la bamba se necesita una poca de gracia una poca de gracia pa mi pa ti y arriba y arriba ah y arriba y arriba por ti serÌ© por ti serÌ© por ti serÌ©yo no soy marinero ...\n"
     ]
    }
   ],
   "source": [
    "print(df.iloc[2178].Lyrics[:200],\"...\")\n",
    "print('------------------------------------------------------------')\n",
    "print(df.iloc[4894].Lyrics[:200],\"...\")\n",
    "print()\n",
    "print(df.iloc[2957].Lyrics[:200],\"...\")\n",
    "print()\n",
    "print(df.iloc[4548].Lyrics[:200],\"...\")\n",
    "print()\n",
    "print(df.iloc[3882].Lyrics[:200],\"...\")\n",
    "print()\n",
    "print(df.iloc[2085].Lyrics[:200],\"...\")"
   ]
  },
  {
   "cell_type": "code",
   "execution_count": null,
   "metadata": {},
   "outputs": [],
   "source": []
  }
 ],
 "metadata": {
  "kernelspec": {
   "display_name": "Python 3",
   "language": "python",
   "name": "python3"
  },
  "language_info": {
   "codemirror_mode": {
    "name": "ipython",
    "version": 3
   },
   "file_extension": ".py",
   "mimetype": "text/x-python",
   "name": "python",
   "nbconvert_exporter": "python",
   "pygments_lexer": "ipython3",
   "version": "3.6.4"
  }
 },
 "nbformat": 4,
 "nbformat_minor": 2
}
